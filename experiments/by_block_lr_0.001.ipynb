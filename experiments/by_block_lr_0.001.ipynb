{
 "cells": [
  {
   "cell_type": "code",
   "execution_count": 1,
   "id": "02b2db2a",
   "metadata": {},
   "outputs": [
    {
     "name": "stderr",
     "output_type": "stream",
     "text": [
      "c:\\Users\\GIGABYTE\\Desktop\\AI-Internship\\project3\\smart-surveillance-system\\.venv\\Lib\\site-packages\\tqdm\\auto.py:21: TqdmWarning: IProgress not found. Please update jupyter and ipywidgets. See https://ipywidgets.readthedocs.io/en/stable/user_install.html\n",
      "  from .autonotebook import tqdm as notebook_tqdm\n"
     ]
    }
   ],
   "source": [
    "import torch\n",
    "import torch.nn as nn\n",
    "from torch.utils.data import DataLoader\n",
    "from models import UCFModel\n",
    "from utils import load_data, image_transform\n",
    "from data import EncodedVideoDataset\n",
    "from trainers import UCFTrainingConfig, UCFTrainer"
   ]
  },
  {
   "cell_type": "code",
   "execution_count": 2,
   "id": "b12e5d33",
   "metadata": {},
   "outputs": [],
   "source": [
    "device = torch.device(\"cuda\" if torch.cuda.is_available() else \"cpu\")"
   ]
  },
  {
   "cell_type": "code",
   "execution_count": 3,
   "id": "72482062",
   "metadata": {},
   "outputs": [
    {
     "name": "stderr",
     "output_type": "stream",
     "text": [
      "Using cache found in C:\\Users\\GIGABYTE/.cache\\torch\\hub\\facebookresearch_pytorchvideo_main\n"
     ]
    }
   ],
   "source": [
    "ucf_model = UCFModel(unfreeze_number=2).to(device=device)"
   ]
  },
  {
   "cell_type": "code",
   "execution_count": 4,
   "id": "f1adb00e",
   "metadata": {},
   "outputs": [],
   "source": [
    "train_data, val_data = load_data(\"data/dataset/Train\", transform=image_transform, is_split=True)\n",
    "test_data = load_data(\"data/dataset/Test\", transform=image_transform)"
   ]
  },
  {
   "cell_type": "code",
   "execution_count": 5,
   "id": "3c10dd95",
   "metadata": {},
   "outputs": [],
   "source": [
    "train_dataset = EncodedVideoDataset(train_data)\n",
    "val_dataset = EncodedVideoDataset(val_data)\n",
    "test_dataset = EncodedVideoDataset(test_data)"
   ]
  },
  {
   "cell_type": "code",
   "execution_count": 6,
   "id": "6a2be98f",
   "metadata": {},
   "outputs": [],
   "source": [
    "train_loader = DataLoader(train_dataset, batch_size=4, shuffle=True)\n",
    "val_loader = DataLoader(val_dataset, batch_size=4, shuffle=False)\n",
    "test_loader = DataLoader(test_dataset, batch_size=4, shuffle=False)"
   ]
  },
  {
   "cell_type": "code",
   "execution_count": 7,
   "id": "945e60b0",
   "metadata": {},
   "outputs": [],
   "source": [
    "config = UCFTrainingConfig(\n",
    "    experiment_name=\"ucf-i3d-model-by-block-lr-0.001\",\n",
    "    criterion= nn.CrossEntropyLoss(),\n",
    "    train_loader=train_loader,\n",
    "    val_loader=val_loader,\n",
    "    test_loader=test_loader,\n",
    ")"
   ]
  },
  {
   "cell_type": "code",
   "execution_count": null,
   "id": "924e1f29",
   "metadata": {},
   "outputs": [],
   "source": [
    "trainer = UCFTrainer(ucf_model, config=config)"
   ]
  },
  {
   "cell_type": "code",
   "execution_count": 9,
   "id": "bd108d06",
   "metadata": {},
   "outputs": [
    {
     "name": "stderr",
     "output_type": "stream",
     "text": [
      "Epoch 1/20: 100%|██████████| 322/322 [03:15<00:00,  1.65batch/s, batch_loss=0.3708, avg_loss=0.5771]\n",
      "Validating: 100%|████████████████████████████| 81/81 [00:38<00:00,  2.12batch/s]\n"
     ]
    },
    {
     "name": "stdout",
     "output_type": "stream",
     "text": [
      "Epoch [1/20] Train Loss: 0.5771 | Train Acc: 0.7120 | Train Prec: 0.7121 | Train Rec: 0.7120 | Train F1: 0.7119 | Val Loss: 0.5161 | Val Acc: 0.7609 | Val Prec: 0.7619 | Val Rec: 0.7609 | Val F1: 0.7608 | Time: 195.47s\n"
     ]
    },
    {
     "name": "stderr",
     "output_type": "stream",
     "text": [
      "Epoch 2/20: 100%|██████████| 322/322 [02:49<00:00,  1.90batch/s, batch_loss=0.6393, avg_loss=0.4728]\n",
      "Validating: 100%|████████████████████████████| 81/81 [00:40<00:00,  2.00batch/s]\n"
     ]
    },
    {
     "name": "stdout",
     "output_type": "stream",
     "text": [
      "Epoch [2/20] Train Loss: 0.4728 | Train Acc: 0.7803 | Train Prec: 0.7807 | Train Rec: 0.7803 | Train F1: 0.7802 | Val Loss: 0.5243 | Val Acc: 0.7857 | Val Prec: 0.8044 | Val Rec: 0.7857 | Val F1: 0.7830 | Time: 169.53s\n"
     ]
    },
    {
     "name": "stderr",
     "output_type": "stream",
     "text": [
      "Epoch 3/20: 100%|██████████| 322/322 [02:54<00:00,  1.84batch/s, batch_loss=0.1741, avg_loss=0.4074]\n",
      "Validating: 100%|████████████████████████████| 81/81 [00:39<00:00,  2.06batch/s]\n"
     ]
    },
    {
     "name": "stdout",
     "output_type": "stream",
     "text": [
      "Epoch [3/20] Train Loss: 0.4074 | Train Acc: 0.8090 | Train Prec: 0.8091 | Train Rec: 0.8090 | Train F1: 0.8090 | Val Loss: 0.5766 | Val Acc: 0.8075 | Val Prec: 0.8191 | Val Rec: 0.8075 | Val F1: 0.8061 | Time: 174.92s\n"
     ]
    },
    {
     "name": "stderr",
     "output_type": "stream",
     "text": [
      "Epoch 4/20: 100%|██████████| 322/322 [02:53<00:00,  1.85batch/s, batch_loss=0.1552, avg_loss=0.3770]\n",
      "Validating: 100%|████████████████████████████| 81/81 [00:41<00:00,  1.94batch/s]\n"
     ]
    },
    {
     "name": "stdout",
     "output_type": "stream",
     "text": [
      "Epoch [4/20] Train Loss: 0.3770 | Train Acc: 0.8346 | Train Prec: 0.8347 | Train Rec: 0.8346 | Train F1: 0.8346 | Val Loss: 0.4440 | Val Acc: 0.7950 | Val Prec: 0.7964 | Val Rec: 0.7950 | Val F1: 0.7946 | Time: 173.62s\n"
     ]
    },
    {
     "name": "stderr",
     "output_type": "stream",
     "text": [
      "Epoch 5/20: 100%|██████████| 322/322 [03:07<00:00,  1.72batch/s, batch_loss=0.3823, avg_loss=0.3079]\n",
      "Validating: 100%|████████████████████████████| 81/81 [00:39<00:00,  2.07batch/s]\n"
     ]
    },
    {
     "name": "stdout",
     "output_type": "stream",
     "text": [
      "Epoch [5/20] Train Loss: 0.3079 | Train Acc: 0.8727 | Train Prec: 0.8728 | Train Rec: 0.8727 | Train F1: 0.8727 | Val Loss: 0.5798 | Val Acc: 0.7795 | Val Prec: 0.7882 | Val Rec: 0.7795 | Val F1: 0.7773 | Time: 187.65s\n"
     ]
    },
    {
     "name": "stderr",
     "output_type": "stream",
     "text": [
      "Epoch 6/20: 100%|██████████| 322/322 [02:56<00:00,  1.82batch/s, batch_loss=0.3595, avg_loss=0.2964]\n",
      "Validating: 100%|████████████████████████████| 81/81 [00:38<00:00,  2.08batch/s]\n"
     ]
    },
    {
     "name": "stdout",
     "output_type": "stream",
     "text": [
      "Epoch [6/20] Train Loss: 0.2964 | Train Acc: 0.8688 | Train Prec: 0.8688 | Train Rec: 0.8688 | Train F1: 0.8688 | Val Loss: 0.5319 | Val Acc: 0.7950 | Val Prec: 0.8098 | Val Rec: 0.7950 | Val F1: 0.7920 | Time: 176.72s\n"
     ]
    },
    {
     "name": "stderr",
     "output_type": "stream",
     "text": [
      "Epoch 7/20: 100%|██████████| 322/322 [02:57<00:00,  1.81batch/s, batch_loss=0.5117, avg_loss=0.2755]\n",
      "Validating: 100%|████████████████████████████| 81/81 [00:39<00:00,  2.03batch/s]\n"
     ]
    },
    {
     "name": "stdout",
     "output_type": "stream",
     "text": [
      "Epoch [7/20] Train Loss: 0.2755 | Train Acc: 0.8882 | Train Prec: 0.8882 | Train Rec: 0.8882 | Train F1: 0.8882 | Val Loss: 0.4541 | Val Acc: 0.8199 | Val Prec: 0.8199 | Val Rec: 0.8199 | Val F1: 0.8198 | Time: 177.57s\n",
      "Early stopping triggered after 7 epochs.\n"
     ]
    }
   ],
   "source": [
    "trainer.train()"
   ]
  },
  {
   "cell_type": "code",
   "execution_count": 10,
   "id": "ce235b6a",
   "metadata": {},
   "outputs": [
    {
     "name": "stderr",
     "output_type": "stream",
     "text": [
      "Testing: 100%|██████████████████████████████████| 73/73 [00:39<00:00,  1.86it/s]\n"
     ]
    },
    {
     "data": {
      "text/html": [],
      "text/plain": [
       "<IPython.core.display.HTML object>"
      ]
     },
     "metadata": {},
     "output_type": "display_data"
    },
    {
     "data": {
      "text/html": [
       "<br>    <style><br>        .wandb-row {<br>            display: flex;<br>            flex-direction: row;<br>            flex-wrap: wrap;<br>            justify-content: flex-start;<br>            width: 100%;<br>        }<br>        .wandb-col {<br>            display: flex;<br>            flex-direction: column;<br>            flex-basis: 100%;<br>            flex: 1;<br>            padding: 10px;<br>        }<br>    </style><br><div class=\"wandb-row\"><div class=\"wandb-col\"><h3>Run history:</h3><br/><table class=\"wandb\"><tr><td>epoch</td><td>▁▁▁▁▁▂▂▂▂▂▂▂▂▃▃▃▃▃▅▅▅▅▆▆▆▆▆▆▆▇▇▇▇▇██████</td></tr><tr><td>epoch_time</td><td>█▁▂▂▆▃▃</td></tr><tr><td>test_accuracy</td><td>▁</td></tr><tr><td>test_f1</td><td>▁</td></tr><tr><td>test_precision</td><td>▁</td></tr><tr><td>test_recall</td><td>▁</td></tr><tr><td>train_batch_accuracy</td><td>▁▃▆▁▃▆████▆█▆▆▃█▆████▆▆▃▆█▃████▆█████▆██</td></tr><tr><td>train_batch_f1</td><td>▅▃▆▅███▄█▅▅▆▆▃▁▆█▃██▅▃█▄▆▅████▄▁▅█▄▄▅███</td></tr><tr><td>train_batch_loss</td><td>▅▆▅▃▄▅▄▄▂▂▂▂▃▂▃▁▃▁▅▄▃█▄▃▂▂▂▂▂▃▂▁▄▁▂▇▅▆▁▂</td></tr><tr><td>train_batch_precision</td><td>▃█▆▃▇█▄▆▇█▇▇▁▃███▇███▄▇███▇█▆█▆█▇▇███▇██</td></tr><tr><td>train_batch_recall</td><td>█▁██▅██▅█▅█▅█▅▅▅█▅█▅▁████▁█▁████████████</td></tr><tr><td>train_epoch_accuracy</td><td>▁▄▅▆▇▇█</td></tr><tr><td>train_epoch_f1</td><td>▁▄▅▆▇▇█</td></tr><tr><td>train_epoch_loss</td><td>█▆▄▃▂▁▁</td></tr><tr><td>train_epoch_precision</td><td>▁▄▅▆▇▇█</td></tr><tr><td>train_epoch_recall</td><td>▁▄▅▆▇▇█</td></tr><tr><td>val_batch_accuracy</td><td>▆▃██▆▆▆▆█▆▆▆▃▆▃██▆▆█▆███▁▆▆███▆▆▆▆█▆█▆██</td></tr><tr><td>val_batch_f1</td><td>▄▆▂▆▆▇█▄▁▄▆▅██▇▁▄█▅██▆█▆▆▆██▆▆██▇▆██▆▆█▂</td></tr><tr><td>val_batch_loss</td><td>▂▄▂▂▂▁▃▃▂▁▂▄▃▂▁█▂▂▃▁▂▁▃▁▅▂▅▃▄▂▂▂▄▁▁▁▁▂▁▂</td></tr><tr><td>val_batch_precision</td><td>██▆▆▆▆█▆█▁▆████▆▆▆▆▆▆▂████▆█▆▆█▂██▁▆▆███</td></tr><tr><td>val_batch_recall</td><td>▆▆█▆███▆███▃████▆▃█▆▆▆▁▆▁██▆▆▆▆▆▆█▆████▆</td></tr><tr><td>val_epoch_accuracy</td><td>▁▄▇▅▃▅█</td></tr><tr><td>val_epoch_f1</td><td>▁▄▆▅▃▅█</td></tr><tr><td>val_epoch_loss</td><td>▅▅█▁█▆▂</td></tr><tr><td>val_epoch_precision</td><td>▁▆█▅▄▇█</td></tr><tr><td>val_epoch_recall</td><td>▁▄▇▅▃▅█</td></tr></table><br/></div><div class=\"wandb-col\"><h3>Run summary:</h3><br/><table class=\"wandb\"><tr><td>best_val_accuracy</td><td>0.79503</td></tr><tr><td>best_val_loss</td><td>0.44402</td></tr><tr><td>epoch</td><td>7</td></tr><tr><td>epoch_time</td><td>177.56501</td></tr><tr><td>test_accuracy</td><td>0.81379</td></tr><tr><td>test_f1</td><td>0.81286</td></tr><tr><td>test_precision</td><td>0.81697</td></tr><tr><td>test_recall</td><td>0.81379</td></tr><tr><td>train_batch_accuracy</td><td>0.5</td></tr><tr><td>train_batch_f1</td><td>0.66667</td></tr><tr><td>train_batch_loss</td><td>0.51165</td></tr><tr><td>train_batch_precision</td><td>1</td></tr><tr><td>train_batch_recall</td><td>0.5</td></tr><tr><td>train_epoch_accuracy</td><td>0.8882</td></tr><tr><td>train_epoch_f1</td><td>0.8882</td></tr><tr><td>train_epoch_loss</td><td>0.27553</td></tr><tr><td>train_epoch_precision</td><td>0.8882</td></tr><tr><td>train_epoch_recall</td><td>0.8882</td></tr><tr><td>val_batch_accuracy</td><td>1</td></tr><tr><td>val_batch_f1</td><td>1</td></tr><tr><td>val_batch_loss</td><td>0.0669</td></tr><tr><td>val_batch_precision</td><td>1</td></tr><tr><td>val_batch_recall</td><td>1</td></tr><tr><td>val_epoch_accuracy</td><td>0.81988</td></tr><tr><td>val_epoch_f1</td><td>0.81985</td></tr><tr><td>val_epoch_loss</td><td>0.45415</td></tr><tr><td>val_epoch_precision</td><td>0.81988</td></tr><tr><td>val_epoch_recall</td><td>0.81988</td></tr></table><br/></div></div>"
      ],
      "text/plain": [
       "<IPython.core.display.HTML object>"
      ]
     },
     "metadata": {},
     "output_type": "display_data"
    },
    {
     "data": {
      "text/html": [
       " View run <strong style=\"color:#cdcd00\">ucf-i3d-model-by-block-lr-0.001</strong> at: <a href='https://wandb.ai/smart-surveillance-system/smart-surveillance-system/runs/zu3b6l2f' target=\"_blank\">https://wandb.ai/smart-surveillance-system/smart-surveillance-system/runs/zu3b6l2f</a><br> View project at: <a href='https://wandb.ai/smart-surveillance-system/smart-surveillance-system' target=\"_blank\">https://wandb.ai/smart-surveillance-system/smart-surveillance-system</a><br>Synced 5 W&B file(s), 0 media file(s), 0 artifact file(s) and 0 other file(s)"
      ],
      "text/plain": [
       "<IPython.core.display.HTML object>"
      ]
     },
     "metadata": {},
     "output_type": "display_data"
    },
    {
     "data": {
      "text/html": [
       "Find logs at: <code>.\\wandb\\run-20250814_102945-zu3b6l2f\\logs</code>"
      ],
      "text/plain": [
       "<IPython.core.display.HTML object>"
      ]
     },
     "metadata": {},
     "output_type": "display_data"
    },
    {
     "data": {
      "text/plain": [
       "{'accuracy': 0.8137931034482758,\n",
       " 'precision': 0.816972003698889,\n",
       " 'recall': 0.8137931034482758,\n",
       " 'f1': 0.8128645688663149}"
      ]
     },
     "execution_count": 10,
     "metadata": {},
     "output_type": "execute_result"
    }
   ],
   "source": [
    "trainer.evaluate()"
   ]
  },
  {
   "cell_type": "code",
   "execution_count": null,
   "id": "81956943",
   "metadata": {},
   "outputs": [],
   "source": [
    "trainer.save(\"ucf-i3d-model-by-block-lr-0.001\")"
   ]
  }
 ],
 "metadata": {
  "kernelspec": {
   "display_name": ".venv",
   "language": "python",
   "name": "python3"
  },
  "language_info": {
   "codemirror_mode": {
    "name": "ipython",
    "version": 3
   },
   "file_extension": ".py",
   "mimetype": "text/x-python",
   "name": "python",
   "nbconvert_exporter": "python",
   "pygments_lexer": "ipython3",
   "version": "3.11.2"
  }
 },
 "nbformat": 4,
 "nbformat_minor": 5
}
