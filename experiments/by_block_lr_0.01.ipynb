{
 "cells": [
  {
   "cell_type": "code",
   "execution_count": 1,
   "id": "02b2db2a",
   "metadata": {},
   "outputs": [
    {
     "name": "stderr",
     "output_type": "stream",
     "text": [
      "c:\\Users\\GIGABYTE\\Desktop\\AI-Internship\\project3\\smart-surveillance-system\\.venv\\Lib\\site-packages\\tqdm\\auto.py:21: TqdmWarning: IProgress not found. Please update jupyter and ipywidgets. See https://ipywidgets.readthedocs.io/en/stable/user_install.html\n",
      "  from .autonotebook import tqdm as notebook_tqdm\n"
     ]
    }
   ],
   "source": [
    "import torch\n",
    "import torch.nn as nn\n",
    "from torch.utils.data import DataLoader\n",
    "from models import UCFModel\n",
    "from utils import load_data, image_transform\n",
    "from data import EncodedVideoDataset\n",
    "from trainers import UCFTrainingConfig, UCFTrainer"
   ]
  },
  {
   "cell_type": "code",
   "execution_count": 2,
   "id": "b12e5d33",
   "metadata": {},
   "outputs": [],
   "source": [
    "device = torch.device(\"cuda\" if torch.cuda.is_available() else \"cpu\")"
   ]
  },
  {
   "cell_type": "code",
   "execution_count": 3,
   "id": "72482062",
   "metadata": {},
   "outputs": [
    {
     "name": "stderr",
     "output_type": "stream",
     "text": [
      "Using cache found in C:\\Users\\GIGABYTE/.cache\\torch\\hub\\facebookresearch_pytorchvideo_main\n"
     ]
    }
   ],
   "source": [
    "ucf_model = UCFModel(unfreeze_number=2).to(device=device)"
   ]
  },
  {
   "cell_type": "code",
   "execution_count": 4,
   "id": "f1adb00e",
   "metadata": {},
   "outputs": [],
   "source": [
    "train_data, val_data = load_data(\"data/dataset/Train\", transform=image_transform, is_split=True)\n",
    "test_data = load_data(\"data/dataset/Test\", transform=image_transform)"
   ]
  },
  {
   "cell_type": "code",
   "execution_count": 5,
   "id": "3c10dd95",
   "metadata": {},
   "outputs": [],
   "source": [
    "train_dataset = EncodedVideoDataset(train_data)\n",
    "val_dataset = EncodedVideoDataset(val_data)\n",
    "test_dataset = EncodedVideoDataset(test_data)"
   ]
  },
  {
   "cell_type": "code",
   "execution_count": 6,
   "id": "6a2be98f",
   "metadata": {},
   "outputs": [],
   "source": [
    "train_loader = DataLoader(train_dataset, batch_size=4, shuffle=True)\n",
    "val_loader = DataLoader(val_dataset, batch_size=4, shuffle=False)\n",
    "test_loader = DataLoader(test_dataset, batch_size=4, shuffle=False)"
   ]
  },
  {
   "cell_type": "code",
   "execution_count": 7,
   "id": "945e60b0",
   "metadata": {},
   "outputs": [],
   "source": [
    "config = UCFTrainingConfig(\n",
    "    experiment_name=\"ucf-i3d-model-by-block-lr-0.01\",\n",
    "    criterion= nn.CrossEntropyLoss(),\n",
    "    train_loader=train_loader,\n",
    "    val_loader=val_loader,\n",
    "    test_loader=test_loader,\n",
    "    lr=0.01\n",
    ")"
   ]
  },
  {
   "cell_type": "code",
   "execution_count": 8,
   "id": "924e1f29",
   "metadata": {},
   "outputs": [
    {
     "name": "stderr",
     "output_type": "stream",
     "text": [
      "wandb: Currently logged in as: amjadawad129 (smart-surveillance-system) to https://api.wandb.ai. Use `wandb login --relogin` to force relogin\n"
     ]
    },
    {
     "data": {
      "text/html": [
       "Tracking run with wandb version 0.21.1"
      ],
      "text/plain": [
       "<IPython.core.display.HTML object>"
      ]
     },
     "metadata": {},
     "output_type": "display_data"
    },
    {
     "data": {
      "text/html": [
       "Run data is saved locally in <code>c:\\Users\\GIGABYTE\\Desktop\\AI-Internship\\project3\\smart-surveillance-system\\wandb\\run-20250814_123816-nzbrsqou</code>"
      ],
      "text/plain": [
       "<IPython.core.display.HTML object>"
      ]
     },
     "metadata": {},
     "output_type": "display_data"
    },
    {
     "data": {
      "text/html": [
       "Syncing run <strong><a href='https://wandb.ai/smart-surveillance-system/smart-surveillance-system/runs/nzbrsqou' target=\"_blank\">ucf-i3d-model-by-block-lr-0.01</a></strong> to <a href='https://wandb.ai/smart-surveillance-system/smart-surveillance-system' target=\"_blank\">Weights & Biases</a> (<a href='https://wandb.me/developer-guide' target=\"_blank\">docs</a>)<br>"
      ],
      "text/plain": [
       "<IPython.core.display.HTML object>"
      ]
     },
     "metadata": {},
     "output_type": "display_data"
    },
    {
     "data": {
      "text/html": [
       " View project at <a href='https://wandb.ai/smart-surveillance-system/smart-surveillance-system' target=\"_blank\">https://wandb.ai/smart-surveillance-system/smart-surveillance-system</a>"
      ],
      "text/plain": [
       "<IPython.core.display.HTML object>"
      ]
     },
     "metadata": {},
     "output_type": "display_data"
    },
    {
     "data": {
      "text/html": [
       " View run at <a href='https://wandb.ai/smart-surveillance-system/smart-surveillance-system/runs/nzbrsqou' target=\"_blank\">https://wandb.ai/smart-surveillance-system/smart-surveillance-system/runs/nzbrsqou</a>"
      ],
      "text/plain": [
       "<IPython.core.display.HTML object>"
      ]
     },
     "metadata": {},
     "output_type": "display_data"
    }
   ],
   "source": [
    "trainer = UCFTrainer(ucf_model, config=config)"
   ]
  },
  {
   "cell_type": "code",
   "execution_count": 9,
   "id": "bd108d06",
   "metadata": {},
   "outputs": [
    {
     "name": "stderr",
     "output_type": "stream",
     "text": [
      "Epoch 1/20: 100%|██████████| 322/322 [02:39<00:00,  2.02batch/s, batch_loss=0.6583, avg_loss=0.7536]\n",
      "Validating: 100%|████████████████████████████| 81/81 [00:35<00:00,  2.28batch/s]\n"
     ]
    },
    {
     "name": "stdout",
     "output_type": "stream",
     "text": [
      "Epoch [1/20] Train Loss: 0.7536 | Train Acc: 0.6227 | Train Prec: 0.6231 | Train Rec: 0.6227 | Train F1: 0.6223 | Val Loss: 0.7152 | Val Acc: 0.6522 | Val Prec: 0.7095 | Val Rec: 0.6522 | Val F1: 0.6307 | Time: 159.66s\n"
     ]
    },
    {
     "name": "stderr",
     "output_type": "stream",
     "text": [
      "Epoch 2/20: 100%|██████████| 322/322 [02:44<00:00,  1.95batch/s, batch_loss=0.5285, avg_loss=0.6055]\n",
      "Validating: 100%|████████████████████████████| 81/81 [00:37<00:00,  2.14batch/s]\n"
     ]
    },
    {
     "name": "stdout",
     "output_type": "stream",
     "text": [
      "Epoch [2/20] Train Loss: 0.6055 | Train Acc: 0.7104 | Train Prec: 0.7104 | Train Rec: 0.7104 | Train F1: 0.7104 | Val Loss: 0.6087 | Val Acc: 0.6832 | Val Prec: 0.7595 | Val Rec: 0.6832 | Val F1: 0.6615 | Time: 165.00s\n"
     ]
    },
    {
     "name": "stderr",
     "output_type": "stream",
     "text": [
      "Epoch 3/20: 100%|██████████| 322/322 [03:01<00:00,  1.77batch/s, batch_loss=0.1448, avg_loss=0.5158]\n",
      "Validating: 100%|████████████████████████████| 81/81 [00:38<00:00,  2.12batch/s]\n"
     ]
    },
    {
     "name": "stdout",
     "output_type": "stream",
     "text": [
      "Epoch [3/20] Train Loss: 0.5158 | Train Acc: 0.7500 | Train Prec: 0.7508 | Train Rec: 0.7500 | Train F1: 0.7498 | Val Loss: 0.4803 | Val Acc: 0.7640 | Val Prec: 0.7839 | Val Rec: 0.7640 | Val F1: 0.7586 | Time: 181.80s\n"
     ]
    },
    {
     "name": "stderr",
     "output_type": "stream",
     "text": [
      "Epoch 4/20: 100%|██████████| 322/322 [02:52<00:00,  1.86batch/s, batch_loss=1.2005, avg_loss=0.4639]\n",
      "Validating: 100%|████████████████████████████| 81/81 [00:38<00:00,  2.08batch/s]\n"
     ]
    },
    {
     "name": "stdout",
     "output_type": "stream",
     "text": [
      "Epoch [4/20] Train Loss: 0.4639 | Train Acc: 0.7842 | Train Prec: 0.7842 | Train Rec: 0.7842 | Train F1: 0.7842 | Val Loss: 0.4672 | Val Acc: 0.7888 | Val Prec: 0.7961 | Val Rec: 0.7888 | Val F1: 0.7880 | Time: 172.78s\n"
     ]
    },
    {
     "name": "stderr",
     "output_type": "stream",
     "text": [
      "Epoch 5/20: 100%|██████████| 322/322 [02:52<00:00,  1.86batch/s, batch_loss=0.4384, avg_loss=0.4107]\n",
      "Validating: 100%|████████████████████████████| 81/81 [00:38<00:00,  2.08batch/s]\n"
     ]
    },
    {
     "name": "stdout",
     "output_type": "stream",
     "text": [
      "Epoch [5/20] Train Loss: 0.4107 | Train Acc: 0.8199 | Train Prec: 0.8199 | Train Rec: 0.8199 | Train F1: 0.8199 | Val Loss: 0.5137 | Val Acc: 0.7950 | Val Prec: 0.7955 | Val Rec: 0.7950 | Val F1: 0.7948 | Time: 173.00s\n"
     ]
    },
    {
     "name": "stderr",
     "output_type": "stream",
     "text": [
      "Epoch 6/20: 100%|██████████| 322/322 [02:51<00:00,  1.87batch/s, batch_loss=0.0219, avg_loss=0.3892]\n",
      "Validating: 100%|████████████████████████████| 81/81 [00:38<00:00,  2.09batch/s]\n"
     ]
    },
    {
     "name": "stdout",
     "output_type": "stream",
     "text": [
      "Epoch [6/20] Train Loss: 0.3892 | Train Acc: 0.8401 | Train Prec: 0.8401 | Train Rec: 0.8401 | Train F1: 0.8401 | Val Loss: 0.4544 | Val Acc: 0.7888 | Val Prec: 0.7983 | Val Rec: 0.7888 | Val F1: 0.7865 | Time: 171.97s\n"
     ]
    },
    {
     "name": "stderr",
     "output_type": "stream",
     "text": [
      "Epoch 7/20: 100%|██████████| 322/322 [02:52<00:00,  1.87batch/s, batch_loss=0.7123, avg_loss=0.3435]\n",
      "Validating: 100%|████████████████████████████| 81/81 [00:38<00:00,  2.08batch/s]\n"
     ]
    },
    {
     "name": "stdout",
     "output_type": "stream",
     "text": [
      "Epoch [7/20] Train Loss: 0.3435 | Train Acc: 0.8470 | Train Prec: 0.8471 | Train Rec: 0.8470 | Train F1: 0.8470 | Val Loss: 0.9734 | Val Acc: 0.7360 | Val Prec: 0.7991 | Val Rec: 0.7360 | Val F1: 0.7234 | Time: 172.10s\n"
     ]
    },
    {
     "name": "stderr",
     "output_type": "stream",
     "text": [
      "Epoch 8/20: 100%|██████████| 322/322 [02:51<00:00,  1.88batch/s, batch_loss=0.2575, avg_loss=0.3572]\n",
      "Validating: 100%|████████████████████████████| 81/81 [00:38<00:00,  2.09batch/s]\n"
     ]
    },
    {
     "name": "stdout",
     "output_type": "stream",
     "text": [
      "Epoch [8/20] Train Loss: 0.3572 | Train Acc: 0.8486 | Train Prec: 0.8487 | Train Rec: 0.8486 | Train F1: 0.8486 | Val Loss: 0.4917 | Val Acc: 0.7950 | Val Prec: 0.7956 | Val Rec: 0.7950 | Val F1: 0.7951 | Time: 171.63s\n"
     ]
    },
    {
     "name": "stderr",
     "output_type": "stream",
     "text": [
      "Epoch 9/20: 100%|██████████| 322/322 [02:51<00:00,  1.87batch/s, batch_loss=0.2946, avg_loss=0.3071]\n",
      "Validating: 100%|████████████████████████████| 81/81 [00:38<00:00,  2.08batch/s]\n"
     ]
    },
    {
     "name": "stdout",
     "output_type": "stream",
     "text": [
      "Epoch [9/20] Train Loss: 0.3071 | Train Acc: 0.8672 | Train Prec: 0.8673 | Train Rec: 0.8672 | Train F1: 0.8672 | Val Loss: 0.6436 | Val Acc: 0.7360 | Val Prec: 0.7834 | Val Rec: 0.7360 | Val F1: 0.7225 | Time: 171.75s\n",
      "Early stopping triggered after 9 epochs.\n"
     ]
    }
   ],
   "source": [
    "trainer.train()"
   ]
  },
  {
   "cell_type": "code",
   "execution_count": 10,
   "id": "ce235b6a",
   "metadata": {},
   "outputs": [
    {
     "name": "stderr",
     "output_type": "stream",
     "text": [
      "Testing: 100%|██████████████████████████████████| 73/73 [00:34<00:00,  2.10it/s]\n"
     ]
    },
    {
     "data": {
      "text/html": [],
      "text/plain": [
       "<IPython.core.display.HTML object>"
      ]
     },
     "metadata": {},
     "output_type": "display_data"
    },
    {
     "data": {
      "text/html": [
       "<br>    <style><br>        .wandb-row {<br>            display: flex;<br>            flex-direction: row;<br>            flex-wrap: wrap;<br>            justify-content: flex-start;<br>            width: 100%;<br>        }<br>        .wandb-col {<br>            display: flex;<br>            flex-direction: column;<br>            flex-basis: 100%;<br>            flex: 1;<br>            padding: 10px;<br>        }<br>    </style><br><div class=\"wandb-row\"><div class=\"wandb-col\"><h3>Run history:</h3><br/><table class=\"wandb\"><tr><td>epoch</td><td>▁▁▁▁▁▂▂▂▂▂▃▃▃▄▄▅▅▅▅▅▅▅▅▅▅▅▅▆▆▆▆▆▆▇▇▇▇▇██</td></tr><tr><td>epoch_time</td><td>▁▃█▅▅▅▅▅▅</td></tr><tr><td>test_accuracy</td><td>▁</td></tr><tr><td>test_f1</td><td>▁</td></tr><tr><td>test_precision</td><td>▁</td></tr><tr><td>test_recall</td><td>▁</td></tr><tr><td>train_batch_accuracy</td><td>▆▆█▆▆█▃▆▁▆▆██▁▁▆▃▁▃▆▃▁▆█▃█▆█▆███▃█▆█▆▆▆█</td></tr><tr><td>train_batch_f1</td><td>▁▃▄▅▇██▇█▆▃▃▅█▅▅▅█▅█▆▅█▆▆▃▆▃▃▆▆███▆█▆██▅</td></tr><tr><td>train_batch_loss</td><td>█▃▅▃▂▃▁▄▇▅▃▂▂▄▃▅▂▁▂▁▆▂▁▁▃▃▄▄▂▅▁▃▂▂▂▁▁▁▁▃</td></tr><tr><td>train_batch_precision</td><td>▁▇█▇▇▇▇██▇▇▇█▇██▄███▇▇█▇▇▇██▇▇▇█████▇███</td></tr><tr><td>train_batch_recall</td><td>▅▆▁▆▃██▆▅▅█▅█▆██▆▆▆▆▅▆██▆▆█▆▅▆█▆▆██▅██▆█</td></tr><tr><td>train_epoch_accuracy</td><td>▁▄▅▆▇▇▇▇█</td></tr><tr><td>train_epoch_f1</td><td>▁▄▅▆▇▇▇▇█</td></tr><tr><td>train_epoch_loss</td><td>█▆▄▃▃▂▂▂▁</td></tr><tr><td>train_epoch_precision</td><td>▁▄▅▆▇▇▇▇█</td></tr><tr><td>train_epoch_recall</td><td>▁▄▅▆▇▇▇▇█</td></tr><tr><td>val_batch_accuracy</td><td>▆▆▃▆▆██▆▁▆█▆▆▃█▃█▃▆▃▆▆▆▃█▁██▆█▆▆▃▃▆▆█▁█▆</td></tr><tr><td>val_batch_f1</td><td>█▄▁▇▆▅█▅▅▄███▆█▄▄▆▄▄██▆█████▄▇▅▅▅▆▆▇█▅▆▅</td></tr><tr><td>val_batch_loss</td><td>▂▂▆▂▃▂▂▂▂▃▂▂▂▁▁▂▁▂▂▃▃▁▂▂▁▃▁▁██▃▄▃▁▂▁▁▃▁▂</td></tr><tr><td>val_batch_precision</td><td>█▇▆█▃▆█▆█▆█▁█▇▆██████████▆█▆██▄█▃▆██▆█▁█</td></tr><tr><td>val_batch_recall</td><td>▆▃▆▆▃█▃▃▃▆█▆▃▆▃█▃▆▆▆▆▆██▆████▆▆█▆▆▃▁██▃▆</td></tr><tr><td>val_epoch_accuracy</td><td>▁▃▆███▅█▅</td></tr><tr><td>val_epoch_f1</td><td>▁▂▆███▅█▅</td></tr><tr><td>val_epoch_loss</td><td>▅▃▁▁▂▁█▂▄</td></tr><tr><td>val_epoch_precision</td><td>▁▅▇█████▇</td></tr><tr><td>val_epoch_recall</td><td>▁▃▆███▅█▅</td></tr></table><br/></div><div class=\"wandb-col\"><h3>Run summary:</h3><br/><table class=\"wandb\"><tr><td>best_val_accuracy</td><td>0.78882</td></tr><tr><td>best_val_loss</td><td>0.45441</td></tr><tr><td>epoch</td><td>9</td></tr><tr><td>epoch_time</td><td>171.7463</td></tr><tr><td>test_accuracy</td><td>0.67931</td></tr><tr><td>test_f1</td><td>0.66416</td></tr><tr><td>test_precision</td><td>0.73241</td></tr><tr><td>test_recall</td><td>0.67931</td></tr><tr><td>train_batch_accuracy</td><td>1</td></tr><tr><td>train_batch_f1</td><td>1</td></tr><tr><td>train_batch_loss</td><td>0.29463</td></tr><tr><td>train_batch_precision</td><td>1</td></tr><tr><td>train_batch_recall</td><td>1</td></tr><tr><td>train_epoch_accuracy</td><td>0.86724</td></tr><tr><td>train_epoch_f1</td><td>0.86723</td></tr><tr><td>train_epoch_loss</td><td>0.30707</td></tr><tr><td>train_epoch_precision</td><td>0.86726</td></tr><tr><td>train_epoch_recall</td><td>0.86724</td></tr><tr><td>val_batch_accuracy</td><td>1</td></tr><tr><td>val_batch_f1</td><td>1</td></tr><tr><td>val_batch_loss</td><td>0.03005</td></tr><tr><td>val_batch_precision</td><td>1</td></tr><tr><td>val_batch_recall</td><td>1</td></tr><tr><td>val_epoch_accuracy</td><td>0.73602</td></tr><tr><td>val_epoch_f1</td><td>0.7225</td></tr><tr><td>val_epoch_loss</td><td>0.64356</td></tr><tr><td>val_epoch_precision</td><td>0.78338</td></tr><tr><td>val_epoch_recall</td><td>0.73602</td></tr></table><br/></div></div>"
      ],
      "text/plain": [
       "<IPython.core.display.HTML object>"
      ]
     },
     "metadata": {},
     "output_type": "display_data"
    },
    {
     "data": {
      "text/html": [
       " View run <strong style=\"color:#cdcd00\">ucf-i3d-model-by-block-lr-0.01</strong> at: <a href='https://wandb.ai/smart-surveillance-system/smart-surveillance-system/runs/nzbrsqou' target=\"_blank\">https://wandb.ai/smart-surveillance-system/smart-surveillance-system/runs/nzbrsqou</a><br> View project at: <a href='https://wandb.ai/smart-surveillance-system/smart-surveillance-system' target=\"_blank\">https://wandb.ai/smart-surveillance-system/smart-surveillance-system</a><br>Synced 5 W&B file(s), 0 media file(s), 0 artifact file(s) and 0 other file(s)"
      ],
      "text/plain": [
       "<IPython.core.display.HTML object>"
      ]
     },
     "metadata": {},
     "output_type": "display_data"
    },
    {
     "data": {
      "text/html": [
       "Find logs at: <code>.\\wandb\\run-20250814_123816-nzbrsqou\\logs</code>"
      ],
      "text/plain": [
       "<IPython.core.display.HTML object>"
      ]
     },
     "metadata": {},
     "output_type": "display_data"
    },
    {
     "data": {
      "text/plain": [
       "{'accuracy': 0.6793103448275862,\n",
       " 'precision': 0.732412910010858,\n",
       " 'recall': 0.6793103448275862,\n",
       " 'f1': 0.6641625570067374}"
      ]
     },
     "execution_count": 10,
     "metadata": {},
     "output_type": "execute_result"
    }
   ],
   "source": [
    "trainer.evaluate()"
   ]
  },
  {
   "cell_type": "code",
   "execution_count": 11,
   "id": "81956943",
   "metadata": {},
   "outputs": [
    {
     "name": "stderr",
     "output_type": "stream",
     "text": [
      "ucf-i3d-model-by-block-lr-0.01: 100%|██████████| 109M/109M [01:07<00:00, 1.61MB/s] \n"
     ]
    },
    {
     "data": {
      "text/plain": [
       "'https://huggingface.co/amjad-awad/ucf-i3d-model-by-block-lr-0.01/commit/7ef15a3796362ae0be0cf27e081ae568c5c556e7'"
      ]
     },
     "execution_count": 11,
     "metadata": {},
     "output_type": "execute_result"
    }
   ],
   "source": [
    "trainer.save(\"ucf-i3d-model-by-block-lr-0.01\")"
   ]
  }
 ],
 "metadata": {
  "kernelspec": {
   "display_name": ".venv",
   "language": "python",
   "name": "python3"
  },
  "language_info": {
   "codemirror_mode": {
    "name": "ipython",
    "version": 3
   },
   "file_extension": ".py",
   "mimetype": "text/x-python",
   "name": "python",
   "nbconvert_exporter": "python",
   "pygments_lexer": "ipython3",
   "version": "3.11.2"
  }
 },
 "nbformat": 4,
 "nbformat_minor": 5
}
