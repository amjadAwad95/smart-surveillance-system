{
 "cells": [
  {
   "cell_type": "code",
   "execution_count": 1,
   "id": "02b2db2a",
   "metadata": {},
   "outputs": [
    {
     "name": "stderr",
     "output_type": "stream",
     "text": [
      "c:\\Users\\GIGABYTE\\Desktop\\AI-Internship\\project3\\smart-surveillance-system\\.venv\\Lib\\site-packages\\tqdm\\auto.py:21: TqdmWarning: IProgress not found. Please update jupyter and ipywidgets. See https://ipywidgets.readthedocs.io/en/stable/user_install.html\n",
      "  from .autonotebook import tqdm as notebook_tqdm\n"
     ]
    }
   ],
   "source": [
    "import torch\n",
    "import torch.nn as nn\n",
    "from torch.utils.data import DataLoader\n",
    "from models import UCFModel, FineTueningStrategy\n",
    "from utils import load_data, image_transform\n",
    "from data import EncodedVideoDataset\n",
    "from trainers import UCFTrainingConfig, UCFTrainer"
   ]
  },
  {
   "cell_type": "code",
   "execution_count": 2,
   "id": "b12e5d33",
   "metadata": {},
   "outputs": [],
   "source": [
    "device = torch.device(\"cuda\" if torch.cuda.is_available() else \"cpu\")"
   ]
  },
  {
   "cell_type": "code",
   "execution_count": 3,
   "id": "72482062",
   "metadata": {},
   "outputs": [
    {
     "name": "stderr",
     "output_type": "stream",
     "text": [
      "Using cache found in C:\\Users\\GIGABYTE/.cache\\torch\\hub\\facebookresearch_pytorchvideo_main\n"
     ]
    }
   ],
   "source": [
    "ucf_model = UCFModel(unfreeze_number=10, strategy=FineTueningStrategy.LAYER).to(device=device)"
   ]
  },
  {
   "cell_type": "code",
   "execution_count": 5,
   "id": "f1adb00e",
   "metadata": {},
   "outputs": [],
   "source": [
    "train_data, val_data = load_data(\"data/dataset/Train\", transform=image_transform, is_split=True)\n",
    "test_data = load_data(\"data/dataset/Test\", transform=image_transform)"
   ]
  },
  {
   "cell_type": "code",
   "execution_count": 6,
   "id": "3c10dd95",
   "metadata": {},
   "outputs": [],
   "source": [
    "train_dataset = EncodedVideoDataset(train_data)\n",
    "val_dataset = EncodedVideoDataset(val_data)\n",
    "test_dataset = EncodedVideoDataset(test_data)"
   ]
  },
  {
   "cell_type": "code",
   "execution_count": 7,
   "id": "6a2be98f",
   "metadata": {},
   "outputs": [],
   "source": [
    "train_loader = DataLoader(train_dataset, batch_size=4, shuffle=True)\n",
    "val_loader = DataLoader(val_dataset, batch_size=4, shuffle=False)\n",
    "test_loader = DataLoader(test_dataset, batch_size=4, shuffle=False)"
   ]
  },
  {
   "cell_type": "code",
   "execution_count": 8,
   "id": "945e60b0",
   "metadata": {},
   "outputs": [],
   "source": [
    "config = UCFTrainingConfig(\n",
    "    experiment_name=\"ucf-i3d-model-by-layer-lr-0.001\",\n",
    "    criterion= nn.CrossEntropyLoss(),\n",
    "    train_loader=train_loader,\n",
    "    val_loader=val_loader,\n",
    "    test_loader=test_loader,\n",
    ")"
   ]
  },
  {
   "cell_type": "code",
   "execution_count": 9,
   "id": "924e1f29",
   "metadata": {},
   "outputs": [
    {
     "name": "stderr",
     "output_type": "stream",
     "text": [
      "wandb: Currently logged in as: amjadawad129 (smart-surveillance-system) to https://api.wandb.ai. Use `wandb login --relogin` to force relogin\n"
     ]
    },
    {
     "data": {
      "text/html": [
       "Tracking run with wandb version 0.21.1"
      ],
      "text/plain": [
       "<IPython.core.display.HTML object>"
      ]
     },
     "metadata": {},
     "output_type": "display_data"
    },
    {
     "data": {
      "text/html": [
       "Run data is saved locally in <code>c:\\Users\\GIGABYTE\\Desktop\\AI-Internship\\project3\\smart-surveillance-system\\wandb\\run-20250814_110628-6wcls75w</code>"
      ],
      "text/plain": [
       "<IPython.core.display.HTML object>"
      ]
     },
     "metadata": {},
     "output_type": "display_data"
    },
    {
     "data": {
      "text/html": [
       "Syncing run <strong><a href='https://wandb.ai/smart-surveillance-system/smart-surveillance-system/runs/6wcls75w' target=\"_blank\">ucf-i3d-model-by-layer-lr-0.001</a></strong> to <a href='https://wandb.ai/smart-surveillance-system/smart-surveillance-system' target=\"_blank\">Weights & Biases</a> (<a href='https://wandb.me/developer-guide' target=\"_blank\">docs</a>)<br>"
      ],
      "text/plain": [
       "<IPython.core.display.HTML object>"
      ]
     },
     "metadata": {},
     "output_type": "display_data"
    },
    {
     "data": {
      "text/html": [
       " View project at <a href='https://wandb.ai/smart-surveillance-system/smart-surveillance-system' target=\"_blank\">https://wandb.ai/smart-surveillance-system/smart-surveillance-system</a>"
      ],
      "text/plain": [
       "<IPython.core.display.HTML object>"
      ]
     },
     "metadata": {},
     "output_type": "display_data"
    },
    {
     "data": {
      "text/html": [
       " View run at <a href='https://wandb.ai/smart-surveillance-system/smart-surveillance-system/runs/6wcls75w' target=\"_blank\">https://wandb.ai/smart-surveillance-system/smart-surveillance-system/runs/6wcls75w</a>"
      ],
      "text/plain": [
       "<IPython.core.display.HTML object>"
      ]
     },
     "metadata": {},
     "output_type": "display_data"
    }
   ],
   "source": [
    "trainer = UCFTrainer(ucf_model, config=config)"
   ]
  },
  {
   "cell_type": "code",
   "execution_count": 10,
   "id": "bd108d06",
   "metadata": {},
   "outputs": [
    {
     "name": "stderr",
     "output_type": "stream",
     "text": [
      "Epoch 1/20: 100%|██████████| 322/322 [02:30<00:00,  2.14batch/s, batch_loss=0.2157, avg_loss=0.5959]\n",
      "Validating: 100%|████████████████████████████| 81/81 [00:35<00:00,  2.30batch/s]\n"
     ]
    },
    {
     "name": "stdout",
     "output_type": "stream",
     "text": [
      "Epoch [1/20] Train Loss: 0.5959 | Train Acc: 0.6941 | Train Prec: 0.6941 | Train Rec: 0.6941 | Train F1: 0.6941 | Val Loss: 0.5023 | Val Acc: 0.7547 | Val Prec: 0.7793 | Val Rec: 0.7547 | Val F1: 0.7515 | Time: 150.70s\n"
     ]
    },
    {
     "name": "stderr",
     "output_type": "stream",
     "text": [
      "Epoch 2/20: 100%|██████████| 322/322 [02:33<00:00,  2.10batch/s, batch_loss=0.1035, avg_loss=0.5090]\n",
      "Validating: 100%|████████████████████████████| 81/81 [00:37<00:00,  2.17batch/s]\n"
     ]
    },
    {
     "name": "stdout",
     "output_type": "stream",
     "text": [
      "Epoch [2/20] Train Loss: 0.5090 | Train Acc: 0.7484 | Train Prec: 0.7493 | Train Rec: 0.7484 | Train F1: 0.7482 | Val Loss: 0.5050 | Val Acc: 0.7547 | Val Prec: 0.7606 | Val Rec: 0.7547 | Val F1: 0.7544 | Time: 153.29s\n"
     ]
    },
    {
     "name": "stderr",
     "output_type": "stream",
     "text": [
      "Epoch 3/20: 100%|██████████| 322/322 [02:50<00:00,  1.89batch/s, batch_loss=0.8460, avg_loss=0.4947]\n",
      "Validating: 100%|████████████████████████████| 81/81 [00:37<00:00,  2.14batch/s]\n"
     ]
    },
    {
     "name": "stdout",
     "output_type": "stream",
     "text": [
      "Epoch [3/20] Train Loss: 0.4947 | Train Acc: 0.7725 | Train Prec: 0.7727 | Train Rec: 0.7725 | Train F1: 0.7725 | Val Loss: 0.4970 | Val Acc: 0.7640 | Val Prec: 0.7729 | Val Rec: 0.7640 | Val F1: 0.7634 | Time: 170.83s\n"
     ]
    },
    {
     "name": "stderr",
     "output_type": "stream",
     "text": [
      "Epoch 4/20: 100%|██████████| 322/322 [02:52<00:00,  1.87batch/s, batch_loss=0.0975, avg_loss=0.4365]\n",
      "Validating: 100%|████████████████████████████| 81/81 [00:38<00:00,  2.11batch/s]\n"
     ]
    },
    {
     "name": "stdout",
     "output_type": "stream",
     "text": [
      "Epoch [4/20] Train Loss: 0.4365 | Train Acc: 0.7981 | Train Prec: 0.7985 | Train Rec: 0.7981 | Train F1: 0.7980 | Val Loss: 0.5319 | Val Acc: 0.7733 | Val Prec: 0.7831 | Val Rec: 0.7733 | Val F1: 0.7697 | Time: 172.31s\n"
     ]
    },
    {
     "name": "stderr",
     "output_type": "stream",
     "text": [
      "Epoch 5/20: 100%|██████████| 322/322 [02:40<00:00,  2.00batch/s, batch_loss=0.1465, avg_loss=0.4217]\n",
      "Validating: 100%|████████████████████████████| 81/81 [00:41<00:00,  1.93batch/s]\n"
     ]
    },
    {
     "name": "stdout",
     "output_type": "stream",
     "text": [
      "Epoch [5/20] Train Loss: 0.4217 | Train Acc: 0.8191 | Train Prec: 0.8192 | Train Rec: 0.8191 | Train F1: 0.8191 | Val Loss: 0.4594 | Val Acc: 0.8012 | Val Prec: 0.8052 | Val Rec: 0.8012 | Val F1: 0.8012 | Time: 160.69s\n"
     ]
    },
    {
     "name": "stderr",
     "output_type": "stream",
     "text": [
      "Epoch 6/20: 100%|██████████| 322/322 [02:45<00:00,  1.95batch/s, batch_loss=0.8073, avg_loss=0.3982]\n",
      "Validating: 100%|████████████████████████████| 81/81 [00:38<00:00,  2.09batch/s]\n"
     ]
    },
    {
     "name": "stdout",
     "output_type": "stream",
     "text": [
      "Epoch [6/20] Train Loss: 0.3982 | Train Acc: 0.8292 | Train Prec: 0.8292 | Train Rec: 0.8292 | Train F1: 0.8292 | Val Loss: 0.5224 | Val Acc: 0.7702 | Val Prec: 0.7805 | Val Rec: 0.7702 | Val F1: 0.7694 | Time: 165.40s\n"
     ]
    },
    {
     "name": "stderr",
     "output_type": "stream",
     "text": [
      "Epoch 7/20: 100%|██████████| 322/322 [03:08<00:00,  1.71batch/s, batch_loss=0.1703, avg_loss=0.3992]\n",
      "Validating: 100%|████████████████████████████| 81/81 [00:44<00:00,  1.80batch/s]\n"
     ]
    },
    {
     "name": "stdout",
     "output_type": "stream",
     "text": [
      "Epoch [7/20] Train Loss: 0.3992 | Train Acc: 0.8230 | Train Prec: 0.8231 | Train Rec: 0.8230 | Train F1: 0.8230 | Val Loss: 0.4745 | Val Acc: 0.7981 | Val Prec: 0.7996 | Val Rec: 0.7981 | Val F1: 0.7983 | Time: 188.38s\n"
     ]
    },
    {
     "name": "stderr",
     "output_type": "stream",
     "text": [
      "Epoch 8/20: 100%|██████████| 322/322 [02:47<00:00,  1.92batch/s, batch_loss=0.5300, avg_loss=0.3681]\n",
      "Validating: 100%|████████████████████████████| 81/81 [00:42<00:00,  1.90batch/s]\n"
     ]
    },
    {
     "name": "stdout",
     "output_type": "stream",
     "text": [
      "Epoch [8/20] Train Loss: 0.3681 | Train Acc: 0.8401 | Train Prec: 0.8403 | Train Rec: 0.8401 | Train F1: 0.8400 | Val Loss: 0.4833 | Val Acc: 0.7919 | Val Prec: 0.7983 | Val Rec: 0.7919 | Val F1: 0.7917 | Time: 167.48s\n",
      "Early stopping triggered after 8 epochs.\n"
     ]
    }
   ],
   "source": [
    "trainer.train()"
   ]
  },
  {
   "cell_type": "code",
   "execution_count": 11,
   "id": "ce235b6a",
   "metadata": {},
   "outputs": [
    {
     "name": "stderr",
     "output_type": "stream",
     "text": [
      "Testing: 100%|██████████████████████████████████| 73/73 [00:37<00:00,  1.96it/s]\n"
     ]
    },
    {
     "data": {
      "text/html": [],
      "text/plain": [
       "<IPython.core.display.HTML object>"
      ]
     },
     "metadata": {},
     "output_type": "display_data"
    },
    {
     "data": {
      "text/html": [
       "<br>    <style><br>        .wandb-row {<br>            display: flex;<br>            flex-direction: row;<br>            flex-wrap: wrap;<br>            justify-content: flex-start;<br>            width: 100%;<br>        }<br>        .wandb-col {<br>            display: flex;<br>            flex-direction: column;<br>            flex-basis: 100%;<br>            flex: 1;<br>            padding: 10px;<br>        }<br>    </style><br><div class=\"wandb-row\"><div class=\"wandb-col\"><h3>Run history:</h3><br/><table class=\"wandb\"><tr><td>epoch</td><td>▁▁▁▁▁▂▂▂▂▂▃▃▃▃▃▄▄▄▄▄▄▄▅▅▅▆▆▆▆▇▇▇▇▇██████</td></tr><tr><td>epoch_time</td><td>▁▁▅▅▃▄█▄</td></tr><tr><td>test_accuracy</td><td>▁</td></tr><tr><td>test_f1</td><td>▁</td></tr><tr><td>test_precision</td><td>▁</td></tr><tr><td>test_recall</td><td>▁</td></tr><tr><td>train_batch_accuracy</td><td>▁▆▃█▁▃▆███▃▁▆▆█▁▁█▆▆▃██▃▆█▆██▆██▃▆█▆█▆▆▆</td></tr><tr><td>train_batch_f1</td><td>▆▁▄█▄█▃▄▅▆▄███▆▄█▆█▄▅▆▅▆██▆▆▆███▆██▆▃▄▆█</td></tr><tr><td>train_batch_loss</td><td>▃▄▄▃▂▂▁▂▃▁▅▂▃▁▂▂▂▂▅█▁▂▄▃▁▂▂▅▁▁▄▂▁▁▃▄▁▂▃▅</td></tr><tr><td>train_batch_precision</td><td>██▇██▃▇▇▇▃█▇██▇██▇▇▇█▇██▇▁▇██▇███▇█▇▅███</td></tr><tr><td>train_batch_recall</td><td>▆█▆▆▆▃▆██▆█▆█████▃▁█▆▆▆▆██▆▆███▆█▆▆▆▆███</td></tr><tr><td>train_epoch_accuracy</td><td>▁▄▅▆▇▇▇█</td></tr><tr><td>train_epoch_f1</td><td>▁▄▅▆▇▇▇█</td></tr><tr><td>train_epoch_loss</td><td>█▅▅▃▃▂▂▁</td></tr><tr><td>train_epoch_precision</td><td>▁▄▅▆▇▇▇█</td></tr><tr><td>train_epoch_recall</td><td>▁▄▅▆▇▇▇█</td></tr><tr><td>val_batch_accuracy</td><td>▆▆▆▆▆▆▆█▆▆▆▆█▆██▆▆▆▃▁▆█▆█▆▆█▆▆█▆▆▆▆▆██▆▆</td></tr><tr><td>val_batch_f1</td><td>▅▆█▆█▆▆█▆▆▆▆█▇█▅▂▄▆█▂██▆█▆▄▇▆▄██▆█▇▆▆▁▄▃</td></tr><tr><td>val_batch_loss</td><td>▂▂▂▂▅▁▂▄▃▂▂▂▂▁▂▂▂▂▂▂▂▂▁▁▂█▂▂▂▂▂▂▂▂▃▁▁▁▃▁</td></tr><tr><td>val_batch_precision</td><td>▆███▆▆█▆█▆▆██▆▂███▆██▆▂▆██▁▆██▆▆▆▆█▆█▆██</td></tr><tr><td>val_batch_recall</td><td>▆▁▆▃█▆▃██▃▃▆▆▆▃▆█▆█▃▆▆█▃▃██▆█▆██▆█▆█▆█▆▁</td></tr><tr><td>val_epoch_accuracy</td><td>▁▁▂▄█▃█▇</td></tr><tr><td>val_epoch_f1</td><td>▁▁▃▄█▄█▇</td></tr><tr><td>val_epoch_loss</td><td>▅▅▅█▁▇▂▃</td></tr><tr><td>val_epoch_precision</td><td>▄▁▃▅█▄▇▇</td></tr><tr><td>val_epoch_recall</td><td>▁▁▂▄█▃█▇</td></tr></table><br/></div><div class=\"wandb-col\"><h3>Run summary:</h3><br/><table class=\"wandb\"><tr><td>best_val_accuracy</td><td>0.80124</td></tr><tr><td>best_val_loss</td><td>0.45943</td></tr><tr><td>epoch</td><td>8</td></tr><tr><td>epoch_time</td><td>167.47658</td></tr><tr><td>test_accuracy</td><td>0.81724</td></tr><tr><td>test_f1</td><td>0.81557</td></tr><tr><td>test_precision</td><td>0.82449</td></tr><tr><td>test_recall</td><td>0.81724</td></tr><tr><td>train_batch_accuracy</td><td>0.75</td></tr><tr><td>train_batch_f1</td><td>0.76667</td></tr><tr><td>train_batch_loss</td><td>0.53</td></tr><tr><td>train_batch_precision</td><td>0.875</td></tr><tr><td>train_batch_recall</td><td>0.75</td></tr><tr><td>train_epoch_accuracy</td><td>0.84006</td></tr><tr><td>train_epoch_f1</td><td>0.84002</td></tr><tr><td>train_epoch_loss</td><td>0.3681</td></tr><tr><td>train_epoch_precision</td><td>0.84031</td></tr><tr><td>train_epoch_recall</td><td>0.84006</td></tr><tr><td>val_batch_accuracy</td><td>1</td></tr><tr><td>val_batch_f1</td><td>1</td></tr><tr><td>val_batch_loss</td><td>0.03611</td></tr><tr><td>val_batch_precision</td><td>1</td></tr><tr><td>val_batch_recall</td><td>1</td></tr><tr><td>val_epoch_accuracy</td><td>0.79193</td></tr><tr><td>val_epoch_f1</td><td>0.79171</td></tr><tr><td>val_epoch_loss</td><td>0.48334</td></tr><tr><td>val_epoch_precision</td><td>0.79828</td></tr><tr><td>val_epoch_recall</td><td>0.79193</td></tr></table><br/></div></div>"
      ],
      "text/plain": [
       "<IPython.core.display.HTML object>"
      ]
     },
     "metadata": {},
     "output_type": "display_data"
    },
    {
     "data": {
      "text/html": [
       " View run <strong style=\"color:#cdcd00\">ucf-i3d-model-by-layer-lr-0.001</strong> at: <a href='https://wandb.ai/smart-surveillance-system/smart-surveillance-system/runs/6wcls75w' target=\"_blank\">https://wandb.ai/smart-surveillance-system/smart-surveillance-system/runs/6wcls75w</a><br> View project at: <a href='https://wandb.ai/smart-surveillance-system/smart-surveillance-system' target=\"_blank\">https://wandb.ai/smart-surveillance-system/smart-surveillance-system</a><br>Synced 5 W&B file(s), 0 media file(s), 0 artifact file(s) and 0 other file(s)"
      ],
      "text/plain": [
       "<IPython.core.display.HTML object>"
      ]
     },
     "metadata": {},
     "output_type": "display_data"
    },
    {
     "data": {
      "text/html": [
       "Find logs at: <code>.\\wandb\\run-20250814_110628-6wcls75w\\logs</code>"
      ],
      "text/plain": [
       "<IPython.core.display.HTML object>"
      ]
     },
     "metadata": {},
     "output_type": "display_data"
    },
    {
     "data": {
      "text/plain": [
       "{'accuracy': 0.8172413793103448,\n",
       " 'precision': 0.8244941557678253,\n",
       " 'recall': 0.8172413793103448,\n",
       " 'f1': 0.8155703502527085}"
      ]
     },
     "execution_count": 11,
     "metadata": {},
     "output_type": "execute_result"
    }
   ],
   "source": [
    "trainer.evaluate()"
   ]
  },
  {
   "cell_type": "code",
   "execution_count": 12,
   "id": "81956943",
   "metadata": {},
   "outputs": [
    {
     "name": "stderr",
     "output_type": "stream",
     "text": [
      "ucf-i3d-model-by-layer-lr-0.001: 100%|██████████| 109M/109M [01:07<00:00, 1.62MB/s] \n"
     ]
    },
    {
     "data": {
      "text/plain": [
       "'https://huggingface.co/amjad-awad/ucf-i3d-model-by-layer-lr-0.001/commit/fb5a68ea02ce935e762efdeb34f5cc314339f6b8'"
      ]
     },
     "execution_count": 12,
     "metadata": {},
     "output_type": "execute_result"
    }
   ],
   "source": [
    "trainer.save(\"ucf-i3d-model-by-layer-lr-0.001\")"
   ]
  }
 ],
 "metadata": {
  "kernelspec": {
   "display_name": ".venv",
   "language": "python",
   "name": "python3"
  },
  "language_info": {
   "codemirror_mode": {
    "name": "ipython",
    "version": 3
   },
   "file_extension": ".py",
   "mimetype": "text/x-python",
   "name": "python",
   "nbconvert_exporter": "python",
   "pygments_lexer": "ipython3",
   "version": "3.11.2"
  }
 },
 "nbformat": 4,
 "nbformat_minor": 5
}
