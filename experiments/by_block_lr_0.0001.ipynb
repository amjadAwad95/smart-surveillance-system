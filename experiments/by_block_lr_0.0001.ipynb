{
 "cells": [
  {
   "cell_type": "code",
   "execution_count": 1,
   "id": "02b2db2a",
   "metadata": {},
   "outputs": [
    {
     "name": "stderr",
     "output_type": "stream",
     "text": [
      "c:\\Users\\GIGABYTE\\Desktop\\AI-Internship\\project3\\smart-surveillance-system\\.venv\\Lib\\site-packages\\tqdm\\auto.py:21: TqdmWarning: IProgress not found. Please update jupyter and ipywidgets. See https://ipywidgets.readthedocs.io/en/stable/user_install.html\n",
      "  from .autonotebook import tqdm as notebook_tqdm\n"
     ]
    }
   ],
   "source": [
    "import torch\n",
    "import torch.nn as nn\n",
    "from torch.utils.data import DataLoader\n",
    "from models import UCFModel\n",
    "from utils import load_data, image_transform\n",
    "from data import EncodedVideoDataset\n",
    "from trainers import UCFTrainingConfig, UCFTrainer"
   ]
  },
  {
   "cell_type": "code",
   "execution_count": 2,
   "id": "b12e5d33",
   "metadata": {},
   "outputs": [],
   "source": [
    "device = torch.device(\"cuda\" if torch.cuda.is_available() else \"cpu\")"
   ]
  },
  {
   "cell_type": "code",
   "execution_count": 3,
   "id": "72482062",
   "metadata": {},
   "outputs": [
    {
     "name": "stderr",
     "output_type": "stream",
     "text": [
      "Using cache found in C:\\Users\\GIGABYTE/.cache\\torch\\hub\\facebookresearch_pytorchvideo_main\n"
     ]
    }
   ],
   "source": [
    "ucf_model = UCFModel(unfreeze_number=2).to(device=device)"
   ]
  },
  {
   "cell_type": "code",
   "execution_count": 4,
   "id": "f1adb00e",
   "metadata": {},
   "outputs": [],
   "source": [
    "train_data, val_data = load_data(\"data/dataset/Train\", transform=image_transform, is_split=True)\n",
    "test_data = load_data(\"data/dataset/Test\", transform=image_transform)"
   ]
  },
  {
   "cell_type": "code",
   "execution_count": 5,
   "id": "3c10dd95",
   "metadata": {},
   "outputs": [],
   "source": [
    "train_dataset = EncodedVideoDataset(train_data)\n",
    "val_dataset = EncodedVideoDataset(val_data)\n",
    "test_dataset = EncodedVideoDataset(test_data)"
   ]
  },
  {
   "cell_type": "code",
   "execution_count": 6,
   "id": "6a2be98f",
   "metadata": {},
   "outputs": [],
   "source": [
    "train_loader = DataLoader(train_dataset, batch_size=4, shuffle=True)\n",
    "val_loader = DataLoader(val_dataset, batch_size=4, shuffle=False)\n",
    "test_loader = DataLoader(test_dataset, batch_size=4, shuffle=False)"
   ]
  },
  {
   "cell_type": "code",
   "execution_count": 7,
   "id": "945e60b0",
   "metadata": {},
   "outputs": [],
   "source": [
    "config = UCFTrainingConfig(\n",
    "    experiment_name=\"ucf-i3d-model-by-block-lr-0.0001\",\n",
    "    criterion= nn.CrossEntropyLoss(),\n",
    "    train_loader=train_loader,\n",
    "    val_loader=val_loader,\n",
    "    test_loader=test_loader,\n",
    "    lr=0.0001\n",
    ")"
   ]
  },
  {
   "cell_type": "code",
   "execution_count": 8,
   "id": "924e1f29",
   "metadata": {},
   "outputs": [
    {
     "name": "stderr",
     "output_type": "stream",
     "text": [
      "wandb: Currently logged in as: amjadawad129 (smart-surveillance-system) to https://api.wandb.ai. Use `wandb login --relogin` to force relogin\n"
     ]
    },
    {
     "data": {
      "text/html": [
       "Tracking run with wandb version 0.21.1"
      ],
      "text/plain": [
       "<IPython.core.display.HTML object>"
      ]
     },
     "metadata": {},
     "output_type": "display_data"
    },
    {
     "data": {
      "text/html": [
       "Run data is saved locally in <code>c:\\Users\\GIGABYTE\\Desktop\\AI-Internship\\project3\\smart-surveillance-system\\wandb\\run-20250814_132243-pjt99pg5</code>"
      ],
      "text/plain": [
       "<IPython.core.display.HTML object>"
      ]
     },
     "metadata": {},
     "output_type": "display_data"
    },
    {
     "data": {
      "text/html": [
       "Syncing run <strong><a href='https://wandb.ai/smart-surveillance-system/smart-surveillance-system/runs/pjt99pg5' target=\"_blank\">ucf-i3d-model-by-block-lr-0.0001</a></strong> to <a href='https://wandb.ai/smart-surveillance-system/smart-surveillance-system' target=\"_blank\">Weights & Biases</a> (<a href='https://wandb.me/developer-guide' target=\"_blank\">docs</a>)<br>"
      ],
      "text/plain": [
       "<IPython.core.display.HTML object>"
      ]
     },
     "metadata": {},
     "output_type": "display_data"
    },
    {
     "data": {
      "text/html": [
       " View project at <a href='https://wandb.ai/smart-surveillance-system/smart-surveillance-system' target=\"_blank\">https://wandb.ai/smart-surveillance-system/smart-surveillance-system</a>"
      ],
      "text/plain": [
       "<IPython.core.display.HTML object>"
      ]
     },
     "metadata": {},
     "output_type": "display_data"
    },
    {
     "data": {
      "text/html": [
       " View run at <a href='https://wandb.ai/smart-surveillance-system/smart-surveillance-system/runs/pjt99pg5' target=\"_blank\">https://wandb.ai/smart-surveillance-system/smart-surveillance-system/runs/pjt99pg5</a>"
      ],
      "text/plain": [
       "<IPython.core.display.HTML object>"
      ]
     },
     "metadata": {},
     "output_type": "display_data"
    }
   ],
   "source": [
    "trainer = UCFTrainer(ucf_model, config=config)"
   ]
  },
  {
   "cell_type": "code",
   "execution_count": 9,
   "id": "bd108d06",
   "metadata": {},
   "outputs": [
    {
     "name": "stderr",
     "output_type": "stream",
     "text": [
      "Epoch 1/20: 100%|██████████| 322/322 [02:36<00:00,  2.06batch/s, batch_loss=0.4868, avg_loss=0.5609]\n",
      "Validating: 100%|████████████████████████████| 81/81 [00:36<00:00,  2.19batch/s]\n"
     ]
    },
    {
     "name": "stdout",
     "output_type": "stream",
     "text": [
      "Epoch [1/20] Train Loss: 0.5609 | Train Acc: 0.7019 | Train Prec: 0.7025 | Train Rec: 0.7019 | Train F1: 0.7017 | Val Loss: 0.4972 | Val Acc: 0.7640 | Val Prec: 0.8007 | Val Rec: 0.7640 | Val F1: 0.7569 | Time: 156.59s\n"
     ]
    },
    {
     "name": "stderr",
     "output_type": "stream",
     "text": [
      "Epoch 2/20: 100%|██████████| 322/322 [02:44<00:00,  1.96batch/s, batch_loss=0.2181, avg_loss=0.4520]\n",
      "Validating: 100%|████████████████████████████| 81/81 [00:36<00:00,  2.21batch/s]\n"
     ]
    },
    {
     "name": "stdout",
     "output_type": "stream",
     "text": [
      "Epoch [2/20] Train Loss: 0.4520 | Train Acc: 0.7974 | Train Prec: 0.7974 | Train Rec: 0.7974 | Train F1: 0.7974 | Val Loss: 0.4739 | Val Acc: 0.8012 | Val Prec: 0.8079 | Val Rec: 0.8012 | Val F1: 0.8000 | Time: 164.70s\n"
     ]
    },
    {
     "name": "stderr",
     "output_type": "stream",
     "text": [
      "Epoch 3/20: 100%|██████████| 322/322 [02:43<00:00,  1.96batch/s, batch_loss=0.6749, avg_loss=0.3727]\n",
      "Validating: 100%|████████████████████████████| 81/81 [00:37<00:00,  2.18batch/s]\n"
     ]
    },
    {
     "name": "stdout",
     "output_type": "stream",
     "text": [
      "Epoch [3/20] Train Loss: 0.3727 | Train Acc: 0.8354 | Train Prec: 0.8354 | Train Rec: 0.8354 | Train F1: 0.8354 | Val Loss: 0.4852 | Val Acc: 0.8168 | Val Prec: 0.8183 | Val Rec: 0.8168 | Val F1: 0.8166 | Time: 163.92s\n"
     ]
    },
    {
     "name": "stderr",
     "output_type": "stream",
     "text": [
      "Epoch 4/20: 100%|██████████| 322/322 [02:44<00:00,  1.95batch/s, batch_loss=0.0758, avg_loss=0.3148]\n",
      "Validating: 100%|████████████████████████████| 81/81 [00:37<00:00,  2.15batch/s]\n"
     ]
    },
    {
     "name": "stdout",
     "output_type": "stream",
     "text": [
      "Epoch [4/20] Train Loss: 0.3148 | Train Acc: 0.8696 | Train Prec: 0.8696 | Train Rec: 0.8696 | Train F1: 0.8696 | Val Loss: 0.5476 | Val Acc: 0.8075 | Val Prec: 0.8279 | Val Rec: 0.8075 | Val F1: 0.8046 | Time: 164.75s\n"
     ]
    },
    {
     "name": "stderr",
     "output_type": "stream",
     "text": [
      "Epoch 5/20: 100%|██████████| 322/322 [02:46<00:00,  1.94batch/s, batch_loss=0.7342, avg_loss=0.2870]\n",
      "Validating: 100%|████████████████████████████| 81/81 [00:37<00:00,  2.15batch/s]\n"
     ]
    },
    {
     "name": "stdout",
     "output_type": "stream",
     "text": [
      "Epoch [5/20] Train Loss: 0.2870 | Train Acc: 0.8835 | Train Prec: 0.8836 | Train Rec: 0.8835 | Train F1: 0.8835 | Val Loss: 0.4385 | Val Acc: 0.8292 | Val Prec: 0.8302 | Val Rec: 0.8292 | Val F1: 0.8290 | Time: 166.24s\n"
     ]
    },
    {
     "name": "stderr",
     "output_type": "stream",
     "text": [
      "Epoch 6/20: 100%|██████████| 322/322 [03:01<00:00,  1.78batch/s, batch_loss=0.4952, avg_loss=0.2222]\n",
      "Validating: 100%|████████████████████████████| 81/81 [00:38<00:00,  2.13batch/s]\n"
     ]
    },
    {
     "name": "stdout",
     "output_type": "stream",
     "text": [
      "Epoch [6/20] Train Loss: 0.2222 | Train Acc: 0.9161 | Train Prec: 0.9162 | Train Rec: 0.9161 | Train F1: 0.9161 | Val Loss: 0.5027 | Val Acc: 0.8168 | Val Prec: 0.8182 | Val Rec: 0.8168 | Val F1: 0.8165 | Time: 181.38s\n"
     ]
    },
    {
     "name": "stderr",
     "output_type": "stream",
     "text": [
      "Epoch 7/20: 100%|██████████| 322/322 [02:48<00:00,  1.91batch/s, batch_loss=0.0853, avg_loss=0.2114]\n",
      "Validating: 100%|████████████████████████████| 81/81 [00:38<00:00,  2.11batch/s]\n"
     ]
    },
    {
     "name": "stdout",
     "output_type": "stream",
     "text": [
      "Epoch [7/20] Train Loss: 0.2114 | Train Acc: 0.9084 | Train Prec: 0.9084 | Train Rec: 0.9084 | Train F1: 0.9084 | Val Loss: 0.6026 | Val Acc: 0.8230 | Val Prec: 0.8325 | Val Rec: 0.8230 | Val F1: 0.8218 | Time: 168.69s\n"
     ]
    },
    {
     "name": "stderr",
     "output_type": "stream",
     "text": [
      "Epoch 8/20: 100%|██████████| 322/322 [02:49<00:00,  1.90batch/s, batch_loss=0.1303, avg_loss=0.1692]\n",
      "Validating: 100%|████████████████████████████| 81/81 [00:38<00:00,  2.09batch/s]\n"
     ]
    },
    {
     "name": "stdout",
     "output_type": "stream",
     "text": [
      "Epoch [8/20] Train Loss: 0.1692 | Train Acc: 0.9363 | Train Prec: 0.9364 | Train Rec: 0.9363 | Train F1: 0.9363 | Val Loss: 0.5727 | Val Acc: 0.8043 | Val Prec: 0.8085 | Val Rec: 0.8043 | Val F1: 0.8036 | Time: 169.65s\n",
      "Early stopping triggered after 8 epochs.\n"
     ]
    }
   ],
   "source": [
    "trainer.train()"
   ]
  },
  {
   "cell_type": "code",
   "execution_count": 10,
   "id": "ce235b6a",
   "metadata": {},
   "outputs": [
    {
     "name": "stderr",
     "output_type": "stream",
     "text": [
      "Testing: 100%|██████████████████████████████████| 73/73 [00:35<00:00,  2.03it/s]\n"
     ]
    },
    {
     "data": {
      "text/html": [],
      "text/plain": [
       "<IPython.core.display.HTML object>"
      ]
     },
     "metadata": {},
     "output_type": "display_data"
    },
    {
     "data": {
      "text/html": [
       "<br>    <style><br>        .wandb-row {<br>            display: flex;<br>            flex-direction: row;<br>            flex-wrap: wrap;<br>            justify-content: flex-start;<br>            width: 100%;<br>        }<br>        .wandb-col {<br>            display: flex;<br>            flex-direction: column;<br>            flex-basis: 100%;<br>            flex: 1;<br>            padding: 10px;<br>        }<br>    </style><br><div class=\"wandb-row\"><div class=\"wandb-col\"><h3>Run history:</h3><br/><table class=\"wandb\"><tr><td>epoch</td><td>▁▁▁▁▁▂▂▂▂▂▂▃▃▃▄▄▄▄▄▄▅▅▅▅▅▆▆▆▆▆▆▆▇▇▇▇▇▇▇█</td></tr><tr><td>epoch_time</td><td>▁▃▃▃▄█▄▅</td></tr><tr><td>test_accuracy</td><td>▁</td></tr><tr><td>test_f1</td><td>▁</td></tr><tr><td>test_precision</td><td>▁</td></tr><tr><td>test_recall</td><td>▁</td></tr><tr><td>train_batch_accuracy</td><td>█▆▆█▃▃▆▁███▆██▆█▆█▆▆▆█▆██▆█▆██████▆█▆▆██</td></tr><tr><td>train_batch_f1</td><td>▆█▄▅▄███▁██▁▁█▆▁▄████▆▅██▅████▆▅████████</td></tr><tr><td>train_batch_loss</td><td>▄▃▄▄▃▄██▅▄▃▂▂▂▂▁▁▃█▅▂▅▃▂▂▂▁▄▆▄▁▄▄▁▁▁▁▂▃▂</td></tr><tr><td>train_batch_precision</td><td>▁▃██▃█▆▆▇██▆▇▁▇█▆█████▇███▄████▇█████▆██</td></tr><tr><td>train_batch_recall</td><td>▃▁███▆▃▆██▆▆▃▆█▃▆█▃█▆▆███▆███▆█▆████████</td></tr><tr><td>train_epoch_accuracy</td><td>▁▄▅▆▆▇▇█</td></tr><tr><td>train_epoch_f1</td><td>▁▄▅▆▆▇▇█</td></tr><tr><td>train_epoch_loss</td><td>█▆▅▄▃▂▂▁</td></tr><tr><td>train_epoch_precision</td><td>▁▄▅▆▆▇▇█</td></tr><tr><td>train_epoch_recall</td><td>▁▄▅▆▆▇▇█</td></tr><tr><td>val_batch_accuracy</td><td>█▅▁▅▅▅█▅██████▅▅█▅██▁▅▅█████▅▅▁███▅▅█▁▅▁</td></tr><tr><td>val_batch_f1</td><td>▅▆█▁▅▆██████▃▅▅█▃▆▅▃██▅▅██▅▅██▅█▃███▅▅▆▇</td></tr><tr><td>val_batch_loss</td><td>▄▇▅▂▂▂▄▃▁▁▂▃▄▂▂▅▂▃█▂▃▁▂▃▆▂▆▆▁▁▅▃▄▅▄▂▂▂█▂</td></tr><tr><td>val_batch_precision</td><td>█▆██▇██▁██▇▄▄███▆▁█▄▇█████████▆███▆▆█▃█▆</td></tr><tr><td>val_batch_recall</td><td>█▅▅▅▅█▅█▅▅█▅███▅█▅██▅▁▁▅▅█▅▅██▁▁▅▅██▅█▅█</td></tr><tr><td>val_epoch_accuracy</td><td>▁▅▇▆█▇▇▅</td></tr><tr><td>val_epoch_f1</td><td>▁▅▇▆█▇▇▆</td></tr><tr><td>val_epoch_loss</td><td>▄▃▃▆▁▄█▇</td></tr><tr><td>val_epoch_precision</td><td>▁▃▅▇▇▅█▃</td></tr><tr><td>val_epoch_recall</td><td>▁▅▇▆█▇▇▅</td></tr></table><br/></div><div class=\"wandb-col\"><h3>Run summary:</h3><br/><table class=\"wandb\"><tr><td>best_val_accuracy</td><td>0.82919</td></tr><tr><td>best_val_loss</td><td>0.4385</td></tr><tr><td>epoch</td><td>8</td></tr><tr><td>epoch_time</td><td>169.65156</td></tr><tr><td>test_accuracy</td><td>0.7931</td></tr><tr><td>test_f1</td><td>0.7931</td></tr><tr><td>test_precision</td><td>0.79499</td></tr><tr><td>test_recall</td><td>0.7931</td></tr><tr><td>train_batch_accuracy</td><td>1</td></tr><tr><td>train_batch_f1</td><td>1</td></tr><tr><td>train_batch_loss</td><td>0.13035</td></tr><tr><td>train_batch_precision</td><td>1</td></tr><tr><td>train_batch_recall</td><td>1</td></tr><tr><td>train_epoch_accuracy</td><td>0.93634</td></tr><tr><td>train_epoch_f1</td><td>0.93633</td></tr><tr><td>train_epoch_loss</td><td>0.16925</td></tr><tr><td>train_epoch_precision</td><td>0.93637</td></tr><tr><td>train_epoch_recall</td><td>0.93634</td></tr><tr><td>val_batch_accuracy</td><td>0.5</td></tr><tr><td>val_batch_f1</td><td>0.33333</td></tr><tr><td>val_batch_loss</td><td>0.39583</td></tr><tr><td>val_batch_precision</td><td>0.25</td></tr><tr><td>val_batch_recall</td><td>0.5</td></tr><tr><td>val_epoch_accuracy</td><td>0.80435</td></tr><tr><td>val_epoch_f1</td><td>0.80359</td></tr><tr><td>val_epoch_loss</td><td>0.57269</td></tr><tr><td>val_epoch_precision</td><td>0.80851</td></tr><tr><td>val_epoch_recall</td><td>0.80435</td></tr></table><br/></div></div>"
      ],
      "text/plain": [
       "<IPython.core.display.HTML object>"
      ]
     },
     "metadata": {},
     "output_type": "display_data"
    },
    {
     "data": {
      "text/html": [
       " View run <strong style=\"color:#cdcd00\">ucf-i3d-model-by-block-lr-0.0001</strong> at: <a href='https://wandb.ai/smart-surveillance-system/smart-surveillance-system/runs/pjt99pg5' target=\"_blank\">https://wandb.ai/smart-surveillance-system/smart-surveillance-system/runs/pjt99pg5</a><br> View project at: <a href='https://wandb.ai/smart-surveillance-system/smart-surveillance-system' target=\"_blank\">https://wandb.ai/smart-surveillance-system/smart-surveillance-system</a><br>Synced 5 W&B file(s), 0 media file(s), 0 artifact file(s) and 0 other file(s)"
      ],
      "text/plain": [
       "<IPython.core.display.HTML object>"
      ]
     },
     "metadata": {},
     "output_type": "display_data"
    },
    {
     "data": {
      "text/html": [
       "Find logs at: <code>.\\wandb\\run-20250814_132243-pjt99pg5\\logs</code>"
      ],
      "text/plain": [
       "<IPython.core.display.HTML object>"
      ]
     },
     "metadata": {},
     "output_type": "display_data"
    },
    {
     "data": {
      "text/plain": [
       "{'accuracy': 0.7931034482758621,\n",
       " 'precision': 0.794991789819376,\n",
       " 'recall': 0.7931034482758621,\n",
       " 'f1': 0.7931034482758621}"
      ]
     },
     "execution_count": 10,
     "metadata": {},
     "output_type": "execute_result"
    }
   ],
   "source": [
    "trainer.evaluate()"
   ]
  },
  {
   "cell_type": "code",
   "execution_count": 11,
   "id": "81956943",
   "metadata": {},
   "outputs": [
    {
     "name": "stderr",
     "output_type": "stream",
     "text": [
      "ucf-i3d-model-by-block-lr-0.0001: 100%|██████████| 109M/109M [01:03<00:00, 1.71MB/s] \n"
     ]
    },
    {
     "data": {
      "text/plain": [
       "'https://huggingface.co/amjad-awad/ucf-i3d-model-by-block-lr-0.0001/commit/45453143f0374eed2a2f5ef08703d52ba386588a'"
      ]
     },
     "execution_count": 11,
     "metadata": {},
     "output_type": "execute_result"
    }
   ],
   "source": [
    "trainer.save(\"ucf-i3d-model-by-block-lr-0.0001\")"
   ]
  }
 ],
 "metadata": {
  "kernelspec": {
   "display_name": ".venv",
   "language": "python",
   "name": "python3"
  },
  "language_info": {
   "codemirror_mode": {
    "name": "ipython",
    "version": 3
   },
   "file_extension": ".py",
   "mimetype": "text/x-python",
   "name": "python",
   "nbconvert_exporter": "python",
   "pygments_lexer": "ipython3",
   "version": "3.11.2"
  }
 },
 "nbformat": 4,
 "nbformat_minor": 5
}
