{
 "cells": [
  {
   "cell_type": "code",
   "execution_count": 1,
   "id": "02b2db2a",
   "metadata": {},
   "outputs": [
    {
     "name": "stderr",
     "output_type": "stream",
     "text": [
      "c:\\Users\\GIGABYTE\\Desktop\\AI-Internship\\project3\\smart-surveillance-system\\.venv\\Lib\\site-packages\\tqdm\\auto.py:21: TqdmWarning: IProgress not found. Please update jupyter and ipywidgets. See https://ipywidgets.readthedocs.io/en/stable/user_install.html\n",
      "  from .autonotebook import tqdm as notebook_tqdm\n"
     ]
    }
   ],
   "source": [
    "import torch\n",
    "import torch.nn as nn\n",
    "from torch.utils.data import DataLoader\n",
    "from models import UCFModel\n",
    "from utils import load_data, image_transform\n",
    "from data import EncodedVideoDataset\n",
    "from trainers import UCFTrainingConfig, UCFTrainer"
   ]
  },
  {
   "cell_type": "code",
   "execution_count": 2,
   "id": "b12e5d33",
   "metadata": {},
   "outputs": [],
   "source": [
    "device = torch.device(\"cuda\" if torch.cuda.is_available() else \"cpu\")"
   ]
  },
  {
   "cell_type": "code",
   "execution_count": 3,
   "id": "72482062",
   "metadata": {},
   "outputs": [
    {
     "name": "stderr",
     "output_type": "stream",
     "text": [
      "Using cache found in C:\\Users\\GIGABYTE/.cache\\torch\\hub\\facebookresearch_pytorchvideo_main\n"
     ]
    }
   ],
   "source": [
    "ucf_model = UCFModel(unfreeze_number=3).to(device=device)"
   ]
  },
  {
   "cell_type": "code",
   "execution_count": 4,
   "id": "f1adb00e",
   "metadata": {},
   "outputs": [],
   "source": [
    "train_data, val_data = load_data(\"data/dataset/Train\", transform=image_transform, is_split=True)\n",
    "test_data = load_data(\"data/dataset/Test\", transform=image_transform)"
   ]
  },
  {
   "cell_type": "code",
   "execution_count": 5,
   "id": "3c10dd95",
   "metadata": {},
   "outputs": [],
   "source": [
    "train_dataset = EncodedVideoDataset(train_data)\n",
    "val_dataset = EncodedVideoDataset(val_data)\n",
    "test_dataset = EncodedVideoDataset(test_data)"
   ]
  },
  {
   "cell_type": "code",
   "execution_count": 6,
   "id": "6a2be98f",
   "metadata": {},
   "outputs": [],
   "source": [
    "train_loader = DataLoader(train_dataset, batch_size=4, shuffle=True)\n",
    "val_loader = DataLoader(val_dataset, batch_size=4, shuffle=False)\n",
    "test_loader = DataLoader(test_dataset, batch_size=4, shuffle=False)"
   ]
  },
  {
   "cell_type": "code",
   "execution_count": 7,
   "id": "945e60b0",
   "metadata": {},
   "outputs": [],
   "source": [
    "config = UCFTrainingConfig(\n",
    "    experiment_name=\"ucf-i3d-model-by-3-block-lr-0.001\",\n",
    "    criterion= nn.CrossEntropyLoss(),\n",
    "    train_loader=train_loader,\n",
    "    val_loader=val_loader,\n",
    "    test_loader=test_loader,\n",
    ")"
   ]
  },
  {
   "cell_type": "code",
   "execution_count": 8,
   "id": "924e1f29",
   "metadata": {},
   "outputs": [
    {
     "name": "stderr",
     "output_type": "stream",
     "text": [
      "wandb: Currently logged in as: amjadawad129 (smart-surveillance-system) to https://api.wandb.ai. Use `wandb login --relogin` to force relogin\n"
     ]
    },
    {
     "data": {
      "text/html": [
       "Tracking run with wandb version 0.21.1"
      ],
      "text/plain": [
       "<IPython.core.display.HTML object>"
      ]
     },
     "metadata": {},
     "output_type": "display_data"
    },
    {
     "data": {
      "text/html": [
       "Run data is saved locally in <code>c:\\Users\\GIGABYTE\\Desktop\\AI-Internship\\project3\\smart-surveillance-system\\wandb\\run-20250814_114052-xxofbc5o</code>"
      ],
      "text/plain": [
       "<IPython.core.display.HTML object>"
      ]
     },
     "metadata": {},
     "output_type": "display_data"
    },
    {
     "data": {
      "text/html": [
       "Syncing run <strong><a href='https://wandb.ai/smart-surveillance-system/smart-surveillance-system/runs/xxofbc5o' target=\"_blank\">ucf-i3d-model-by-3-block-lr-0.001</a></strong> to <a href='https://wandb.ai/smart-surveillance-system/smart-surveillance-system' target=\"_blank\">Weights & Biases</a> (<a href='https://wandb.me/developer-guide' target=\"_blank\">docs</a>)<br>"
      ],
      "text/plain": [
       "<IPython.core.display.HTML object>"
      ]
     },
     "metadata": {},
     "output_type": "display_data"
    },
    {
     "data": {
      "text/html": [
       " View project at <a href='https://wandb.ai/smart-surveillance-system/smart-surveillance-system' target=\"_blank\">https://wandb.ai/smart-surveillance-system/smart-surveillance-system</a>"
      ],
      "text/plain": [
       "<IPython.core.display.HTML object>"
      ]
     },
     "metadata": {},
     "output_type": "display_data"
    },
    {
     "data": {
      "text/html": [
       " View run at <a href='https://wandb.ai/smart-surveillance-system/smart-surveillance-system/runs/xxofbc5o' target=\"_blank\">https://wandb.ai/smart-surveillance-system/smart-surveillance-system/runs/xxofbc5o</a>"
      ],
      "text/plain": [
       "<IPython.core.display.HTML object>"
      ]
     },
     "metadata": {},
     "output_type": "display_data"
    }
   ],
   "source": [
    "trainer = UCFTrainer(ucf_model, config=config)"
   ]
  },
  {
   "cell_type": "code",
   "execution_count": 9,
   "id": "bd108d06",
   "metadata": {},
   "outputs": [
    {
     "name": "stderr",
     "output_type": "stream",
     "text": [
      "Epoch 1/20: 100%|██████████| 322/322 [02:57<00:00,  1.81batch/s, batch_loss=0.5652, avg_loss=0.6744]\n",
      "Validating: 100%|████████████████████████████| 81/81 [00:40<00:00,  1.98batch/s]\n"
     ]
    },
    {
     "name": "stdout",
     "output_type": "stream",
     "text": [
      "Epoch [1/20] Train Loss: 0.6744 | Train Acc: 0.6118 | Train Prec: 0.6121 | Train Rec: 0.6118 | Train F1: 0.6118 | Val Loss: 0.6066 | Val Acc: 0.6988 | Val Prec: 0.6988 | Val Rec: 0.6988 | Val F1: 0.6988 | Time: 177.65s\n"
     ]
    },
    {
     "name": "stderr",
     "output_type": "stream",
     "text": [
      "Epoch 2/20: 100%|██████████| 322/322 [03:12<00:00,  1.68batch/s, batch_loss=0.5699, avg_loss=0.6111]\n",
      "Validating: 100%|████████████████████████████| 81/81 [00:39<00:00,  2.04batch/s]\n"
     ]
    },
    {
     "name": "stdout",
     "output_type": "stream",
     "text": [
      "Epoch [2/20] Train Loss: 0.6111 | Train Acc: 0.6685 | Train Prec: 0.6693 | Train Rec: 0.6685 | Train F1: 0.6684 | Val Loss: 0.5290 | Val Acc: 0.7516 | Val Prec: 0.7648 | Val Rec: 0.7516 | Val F1: 0.7496 | Time: 192.15s\n"
     ]
    },
    {
     "name": "stderr",
     "output_type": "stream",
     "text": [
      "Epoch 3/20: 100%|██████████| 322/322 [03:16<00:00,  1.64batch/s, batch_loss=0.3536, avg_loss=0.5885]\n",
      "Validating: 100%|████████████████████████████| 81/81 [00:38<00:00,  2.08batch/s]\n"
     ]
    },
    {
     "name": "stdout",
     "output_type": "stream",
     "text": [
      "Epoch [3/20] Train Loss: 0.5885 | Train Acc: 0.7026 | Train Prec: 0.7031 | Train Rec: 0.7026 | Train F1: 0.7026 | Val Loss: 0.4867 | Val Acc: 0.7826 | Val Prec: 0.7828 | Val Rec: 0.7826 | Val F1: 0.7824 | Time: 196.54s\n"
     ]
    },
    {
     "name": "stderr",
     "output_type": "stream",
     "text": [
      "Epoch 4/20: 100%|██████████| 322/322 [03:44<00:00,  1.43batch/s, batch_loss=0.2870, avg_loss=0.5495]\n",
      "Validating: 100%|████████████████████████████| 81/81 [00:41<00:00,  1.94batch/s]\n"
     ]
    },
    {
     "name": "stdout",
     "output_type": "stream",
     "text": [
      "Epoch [4/20] Train Loss: 0.5495 | Train Acc: 0.7399 | Train Prec: 0.7399 | Train Rec: 0.7399 | Train F1: 0.7399 | Val Loss: 0.4930 | Val Acc: 0.7671 | Val Prec: 0.7688 | Val Rec: 0.7671 | Val F1: 0.7671 | Time: 224.59s\n"
     ]
    },
    {
     "name": "stderr",
     "output_type": "stream",
     "text": [
      "Epoch 5/20: 100%|██████████| 322/322 [03:26<00:00,  1.56batch/s, batch_loss=0.4712, avg_loss=0.5168]\n",
      "Validating: 100%|████████████████████████████| 81/81 [00:41<00:00,  1.97batch/s]\n"
     ]
    },
    {
     "name": "stdout",
     "output_type": "stream",
     "text": [
      "Epoch [5/20] Train Loss: 0.5168 | Train Acc: 0.7500 | Train Prec: 0.7500 | Train Rec: 0.7500 | Train F1: 0.7500 | Val Loss: 0.4595 | Val Acc: 0.7981 | Val Prec: 0.7984 | Val Rec: 0.7981 | Val F1: 0.7979 | Time: 206.11s\n"
     ]
    },
    {
     "name": "stderr",
     "output_type": "stream",
     "text": [
      "Epoch 6/20: 100%|██████████| 322/322 [03:25<00:00,  1.57batch/s, batch_loss=0.1900, avg_loss=0.5069]\n",
      "Validating: 100%|████████████████████████████| 81/81 [00:40<00:00,  2.02batch/s]\n"
     ]
    },
    {
     "name": "stdout",
     "output_type": "stream",
     "text": [
      "Epoch [6/20] Train Loss: 0.5069 | Train Acc: 0.7702 | Train Prec: 0.7702 | Train Rec: 0.7702 | Train F1: 0.7702 | Val Loss: 0.4724 | Val Acc: 0.7950 | Val Prec: 0.7974 | Val Rec: 0.7950 | Val F1: 0.7942 | Time: 205.15s\n"
     ]
    },
    {
     "name": "stderr",
     "output_type": "stream",
     "text": [
      "Epoch 7/20: 100%|██████████| 322/322 [03:17<00:00,  1.63batch/s, batch_loss=0.1974, avg_loss=0.4992]\n",
      "Validating: 100%|████████████████████████████| 81/81 [00:39<00:00,  2.07batch/s]\n"
     ]
    },
    {
     "name": "stdout",
     "output_type": "stream",
     "text": [
      "Epoch [7/20] Train Loss: 0.4992 | Train Acc: 0.7539 | Train Prec: 0.7540 | Train Rec: 0.7539 | Train F1: 0.7539 | Val Loss: 0.4749 | Val Acc: 0.7950 | Val Prec: 0.7950 | Val Rec: 0.7950 | Val F1: 0.7950 | Time: 197.14s\n"
     ]
    },
    {
     "name": "stderr",
     "output_type": "stream",
     "text": [
      "Epoch 8/20: 100%|██████████| 322/322 [03:18<00:00,  1.62batch/s, batch_loss=0.2663, avg_loss=0.4762]\n",
      "Validating: 100%|████████████████████████████| 81/81 [00:41<00:00,  1.96batch/s]\n"
     ]
    },
    {
     "name": "stdout",
     "output_type": "stream",
     "text": [
      "Epoch [8/20] Train Loss: 0.4762 | Train Acc: 0.7826 | Train Prec: 0.7826 | Train Rec: 0.7826 | Train F1: 0.7826 | Val Loss: 0.4580 | Val Acc: 0.7981 | Val Prec: 0.8031 | Val Rec: 0.7981 | Val F1: 0.7978 | Time: 198.95s\n"
     ]
    },
    {
     "name": "stderr",
     "output_type": "stream",
     "text": [
      "Epoch 9/20: 100%|██████████| 322/322 [03:30<00:00,  1.53batch/s, batch_loss=0.3982, avg_loss=0.4675]\n",
      "Validating: 100%|████████████████████████████| 81/81 [00:45<00:00,  1.77batch/s]\n"
     ]
    },
    {
     "name": "stdout",
     "output_type": "stream",
     "text": [
      "Epoch [9/20] Train Loss: 0.4675 | Train Acc: 0.7811 | Train Prec: 0.7811 | Train Rec: 0.7811 | Train F1: 0.7811 | Val Loss: 0.4384 | Val Acc: 0.8106 | Val Prec: 0.8106 | Val Rec: 0.8106 | Val F1: 0.8106 | Time: 210.05s\n"
     ]
    },
    {
     "name": "stderr",
     "output_type": "stream",
     "text": [
      "Epoch 10/20: 100%|██████████| 322/322 [03:22<00:00,  1.59batch/s, batch_loss=0.2015, avg_loss=0.4453]\n",
      "Validating: 100%|████████████████████████████| 81/81 [00:39<00:00,  2.03batch/s]\n"
     ]
    },
    {
     "name": "stdout",
     "output_type": "stream",
     "text": [
      "Epoch [10/20] Train Loss: 0.4453 | Train Acc: 0.8020 | Train Prec: 0.8022 | Train Rec: 0.8020 | Train F1: 0.8020 | Val Loss: 0.4595 | Val Acc: 0.8137 | Val Prec: 0.8156 | Val Rec: 0.8137 | Val F1: 0.8131 | Time: 202.11s\n"
     ]
    },
    {
     "name": "stderr",
     "output_type": "stream",
     "text": [
      "Epoch 11/20: 100%|██████████| 322/322 [03:31<00:00,  1.52batch/s, batch_loss=0.3672, avg_loss=0.4227]\n",
      "Validating: 100%|████████████████████████████| 81/81 [00:38<00:00,  2.08batch/s]\n"
     ]
    },
    {
     "name": "stdout",
     "output_type": "stream",
     "text": [
      "Epoch [11/20] Train Loss: 0.4227 | Train Acc: 0.8051 | Train Prec: 0.8051 | Train Rec: 0.8051 | Train F1: 0.8051 | Val Loss: 0.4972 | Val Acc: 0.8199 | Val Prec: 0.8236 | Val Rec: 0.8199 | Val F1: 0.8197 | Time: 211.51s\n"
     ]
    },
    {
     "name": "stderr",
     "output_type": "stream",
     "text": [
      "Epoch 12/20: 100%|██████████| 322/322 [03:24<00:00,  1.58batch/s, batch_loss=0.1828, avg_loss=0.4041]\n",
      "Validating: 100%|████████████████████████████| 81/81 [00:41<00:00,  1.97batch/s]\n"
     ]
    },
    {
     "name": "stdout",
     "output_type": "stream",
     "text": [
      "Epoch [12/20] Train Loss: 0.4041 | Train Acc: 0.8106 | Train Prec: 0.8106 | Train Rec: 0.8106 | Train F1: 0.8106 | Val Loss: 0.5088 | Val Acc: 0.7857 | Val Prec: 0.7915 | Val Rec: 0.7857 | Val F1: 0.7852 | Time: 204.06s\n",
      "Early stopping triggered after 12 epochs.\n"
     ]
    }
   ],
   "source": [
    "trainer.train()"
   ]
  },
  {
   "cell_type": "code",
   "execution_count": 10,
   "id": "ce235b6a",
   "metadata": {},
   "outputs": [
    {
     "name": "stderr",
     "output_type": "stream",
     "text": [
      "Testing: 100%|██████████████████████████████████| 73/73 [00:38<00:00,  1.90it/s]\n"
     ]
    },
    {
     "data": {
      "text/html": [],
      "text/plain": [
       "<IPython.core.display.HTML object>"
      ]
     },
     "metadata": {},
     "output_type": "display_data"
    },
    {
     "data": {
      "text/html": [
       "<br>    <style><br>        .wandb-row {<br>            display: flex;<br>            flex-direction: row;<br>            flex-wrap: wrap;<br>            justify-content: flex-start;<br>            width: 100%;<br>        }<br>        .wandb-col {<br>            display: flex;<br>            flex-direction: column;<br>            flex-basis: 100%;<br>            flex: 1;<br>            padding: 10px;<br>        }<br>    </style><br><div class=\"wandb-row\"><div class=\"wandb-col\"><h3>Run history:</h3><br/><table class=\"wandb\"><tr><td>epoch</td><td>▁▁▂▂▂▂▂▃▃▃▃▃▄▄▄▄▄▄▄▄▄▅▅▅▅▆▆▆▆▆▇▇▇▇▇▇▇███</td></tr><tr><td>epoch_time</td><td>▁▃▄█▅▅▄▄▆▅▆▅</td></tr><tr><td>test_accuracy</td><td>▁</td></tr><tr><td>test_f1</td><td>▁</td></tr><tr><td>test_precision</td><td>▁</td></tr><tr><td>test_recall</td><td>▁</td></tr><tr><td>train_batch_accuracy</td><td>▆▃▁▆▆▆▆██▃▆▃█▃█▆▆▃█▆█▆▆▆▆▆▆▆█▃▆██▃█▆█▆██</td></tr><tr><td>train_batch_f1</td><td>█▆▃▆▆▆▂▆█▆▅▅▆▆▃▆█▆██▆█▆▆▆█▇▆███▆▆▁▆▆█▆▆▆</td></tr><tr><td>train_batch_loss</td><td>█▄▅▅▇▄▄▄▃▅▅▄▃▆▄▆▃▄▄▄▂▅▃▄▂▂▂▃▁▂▁▃▂▂▂▂▃▂▄▂</td></tr><tr><td>train_batch_precision</td><td>▂▂▁▇▇█▂██▇▆█▆███▇▂▁█▆██▆████▇████▆███▇██</td></tr><tr><td>train_batch_recall</td><td>▃▁▃█▃██▆▃█▆▃█▁▆▆▆█▆█▃▆▆███▆▃▆██▆▆█▆██▃▃▆</td></tr><tr><td>train_epoch_accuracy</td><td>▁▃▄▆▆▇▆▇▇███</td></tr><tr><td>train_epoch_f1</td><td>▁▃▄▆▆▇▆▇▇███</td></tr><tr><td>train_epoch_loss</td><td>█▆▆▅▄▄▃▃▃▂▁▁</td></tr><tr><td>train_epoch_precision</td><td>▁▃▄▆▆▇▆▇▇███</td></tr><tr><td>train_epoch_recall</td><td>▁▃▄▆▆▇▆▇▇███</td></tr><tr><td>val_batch_accuracy</td><td>█▅▅█▆██▅▆▆▆██▆▆▅▆███▅▁▆▆█████▆█▆███▁▆▆██</td></tr><tr><td>val_batch_f1</td><td>▆█▅▇▅▆▄▃█▆█████▅██▁▆▆▃▆▆█▇█▇██▅▇███▆██▇▅</td></tr><tr><td>val_batch_loss</td><td>▃▆▅▅▅▃▁▅▆▄▃▃▅▃▃▃▁▄▃▄▃▄▁▄▂▄▂▂▂▃▄█▄▂█▂▁▁▅▄</td></tr><tr><td>val_batch_precision</td><td>█▇▇▇████▇▇█████▅▇███▇▇▁▇██▇█▅▅████▇▇█▃▇█</td></tr><tr><td>val_batch_recall</td><td>█▁█▃█▆▆██▆█▆▆▆▆███▆▆▆▆▆▃▃▆█▆█▆███▆▃▆▆██▆</td></tr><tr><td>val_epoch_accuracy</td><td>▁▄▆▅▇▇▇▇▇██▆</td></tr><tr><td>val_epoch_f1</td><td>▁▄▆▅▇▇▇▇▇██▆</td></tr><tr><td>val_epoch_loss</td><td>█▅▃▃▂▂▃▂▁▂▃▄</td></tr><tr><td>val_epoch_precision</td><td>▁▅▆▅▇▇▆▇▇██▆</td></tr><tr><td>val_epoch_recall</td><td>▁▄▆▅▇▇▇▇▇██▆</td></tr></table><br/></div><div class=\"wandb-col\"><h3>Run summary:</h3><br/><table class=\"wandb\"><tr><td>best_val_accuracy</td><td>0.81056</td></tr><tr><td>best_val_loss</td><td>0.43837</td></tr><tr><td>epoch</td><td>12</td></tr><tr><td>epoch_time</td><td>204.05785</td></tr><tr><td>test_accuracy</td><td>0.74138</td></tr><tr><td>test_f1</td><td>0.74067</td></tr><tr><td>test_precision</td><td>0.74781</td></tr><tr><td>test_recall</td><td>0.74138</td></tr><tr><td>train_batch_accuracy</td><td>1</td></tr><tr><td>train_batch_f1</td><td>1</td></tr><tr><td>train_batch_loss</td><td>0.18278</td></tr><tr><td>train_batch_precision</td><td>1</td></tr><tr><td>train_batch_recall</td><td>1</td></tr><tr><td>train_epoch_accuracy</td><td>0.81056</td></tr><tr><td>train_epoch_f1</td><td>0.81055</td></tr><tr><td>train_epoch_loss</td><td>0.40413</td></tr><tr><td>train_epoch_precision</td><td>0.81055</td></tr><tr><td>train_epoch_recall</td><td>0.81056</td></tr><tr><td>val_batch_accuracy</td><td>0.5</td></tr><tr><td>val_batch_f1</td><td>0.66667</td></tr><tr><td>val_batch_loss</td><td>0.85428</td></tr><tr><td>val_batch_precision</td><td>1</td></tr><tr><td>val_batch_recall</td><td>0.5</td></tr><tr><td>val_epoch_accuracy</td><td>0.78571</td></tr><tr><td>val_epoch_f1</td><td>0.78524</td></tr><tr><td>val_epoch_loss</td><td>0.50882</td></tr><tr><td>val_epoch_precision</td><td>0.7915</td></tr><tr><td>val_epoch_recall</td><td>0.78571</td></tr></table><br/></div></div>"
      ],
      "text/plain": [
       "<IPython.core.display.HTML object>"
      ]
     },
     "metadata": {},
     "output_type": "display_data"
    },
    {
     "data": {
      "text/html": [
       " View run <strong style=\"color:#cdcd00\">ucf-i3d-model-by-3-block-lr-0.001</strong> at: <a href='https://wandb.ai/smart-surveillance-system/smart-surveillance-system/runs/xxofbc5o' target=\"_blank\">https://wandb.ai/smart-surveillance-system/smart-surveillance-system/runs/xxofbc5o</a><br> View project at: <a href='https://wandb.ai/smart-surveillance-system/smart-surveillance-system' target=\"_blank\">https://wandb.ai/smart-surveillance-system/smart-surveillance-system</a><br>Synced 5 W&B file(s), 0 media file(s), 0 artifact file(s) and 0 other file(s)"
      ],
      "text/plain": [
       "<IPython.core.display.HTML object>"
      ]
     },
     "metadata": {},
     "output_type": "display_data"
    },
    {
     "data": {
      "text/html": [
       "Find logs at: <code>.\\wandb\\run-20250814_114052-xxofbc5o\\logs</code>"
      ],
      "text/plain": [
       "<IPython.core.display.HTML object>"
      ]
     },
     "metadata": {},
     "output_type": "display_data"
    },
    {
     "data": {
      "text/plain": [
       "{'accuracy': 0.7413793103448276,\n",
       " 'precision': 0.7478121404414072,\n",
       " 'recall': 0.7413793103448276,\n",
       " 'f1': 0.7406679256020903}"
      ]
     },
     "execution_count": 10,
     "metadata": {},
     "output_type": "execute_result"
    }
   ],
   "source": [
    "trainer.evaluate()"
   ]
  },
  {
   "cell_type": "code",
   "execution_count": 11,
   "id": "81956943",
   "metadata": {},
   "outputs": [
    {
     "name": "stderr",
     "output_type": "stream",
     "text": [
      "ucf-i3d-model-by-3-block-lr-0.001: 100%|██████████| 109M/109M [01:03<00:00, 1.73MB/s] \n"
     ]
    },
    {
     "data": {
      "text/plain": [
       "'https://huggingface.co/amjad-awad/ucf-i3d-model-by-3-block-lr-0.001/commit/91cf6368936594570c7eec9f8b289d122640ef66'"
      ]
     },
     "execution_count": 11,
     "metadata": {},
     "output_type": "execute_result"
    }
   ],
   "source": [
    "trainer.save(\"ucf-i3d-model-by-3-block-lr-0.001\")"
   ]
  }
 ],
 "metadata": {
  "kernelspec": {
   "display_name": ".venv",
   "language": "python",
   "name": "python3"
  },
  "language_info": {
   "codemirror_mode": {
    "name": "ipython",
    "version": 3
   },
   "file_extension": ".py",
   "mimetype": "text/x-python",
   "name": "python",
   "nbconvert_exporter": "python",
   "pygments_lexer": "ipython3",
   "version": "3.11.2"
  }
 },
 "nbformat": 4,
 "nbformat_minor": 5
}
